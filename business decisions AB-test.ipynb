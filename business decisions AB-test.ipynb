{
 "cells": [
  {
   "cell_type": "markdown",
   "metadata": {},
   "source": [
    "#### Ольга, привет! \n",
    "\n",
    "Меня зовут Максим Попов, и я буду проверять твой проект. Давай будем общаться на «ты». Но если тебе комфортнее на «вы», обязательно сообщи мне об этом. \n",
    "По ходу тетрадки ты найдешь комментарии к проекту, они будут в отдельных ячейках Markdown с заголовком «Комментарий ревьюера». Постарайся учесть эти комментарии для дальнейших проектов.\n",
    "\n",
    "---\n",
    "\n",
    "Я буду отмечать комментарии цветом и примечанием. В конце заголовка комментария будет указан номер итерации проверки. Пожалуйста, не удаляй и не правь мои комментарии\n",
    "\n",
    "Критично - требует исправления, влияет на удачное выполнение проекта\n",
    "\n",
    "Рекомендация - комментарий является рекомендацией или советом. Mожешь учесть их при выполнении будущих заданий. На твое усмотрение\n",
    "\n",
    "Отлично - Так отмечены удачные решения и подходы, на которые стоит опираться в будущих проектах\n",
    "\n",
    "\n",
    "---\n",
    "<div class=\"alert alert-block alert-danger\">\n",
    "    \n",
    "\n",
    "### Комментарий от ревьюера\n",
    "Критично\n",
    "\n",
    "Такой комментарий нужно исправить обязательно, он критически влияет на удачное выполнение проекта.\n",
    "</div>\n",
    "    \n",
    "---\n",
    "\n",
    "<div class=\"alert alert-block alert-warning\">\n",
    "    \n",
    "\n",
    "### Комментарий от ревьюера\n",
    "Рекомендация\n",
    "\n",
    "Такой комментарий является рекомендацией или советом. Mожешь учесть их при выполнении будущих заданий. На твое усмотрение. \n",
    "</div>\n",
    "\n",
    "---\n",
    "\n",
    "<div class=\"alert alert-block alert-success\">\n",
    "    \n",
    "\n",
    "### Комментарий от ревьюера\n",
    "Отлично\n",
    "    \n",
    "Так отмечены удачные решения и подходы, на которые стоит опираться в будущих проектах\n",
    "</div>\n",
    "\n",
    "\n",
    "Желательно реагировать на комментарии ('исправлено', 'не понятно как исправить ошибку' и т.п.) - так мы сможем более эффективно поработать над этим проектом.\n",
    "\n",
    "---\n",
    "\n",
    "Будет здорово, если ты будешь помечать свои действия следующим образом:\n",
    "\n",
    "\n",
    "\n",
    "<div class=\"alert alert-block alert-info\">\n",
    "\n",
    "### Комментарий студента:\n",
    "\n",
    "</div>"
   ]
  },
  {
   "cell_type": "markdown",
   "metadata": {},
   "source": [
    "<div class=\"alert alert-block alert-success\">\n",
    "        \n",
    "### Комментарий от ревьюера v_1\n",
    "    \n",
    "Ольга, отличная работа, но следующие моменты надо исправить\n",
    "    \n",
    "1. Предобработка данных\n",
    "2. Оформление графиков\n",
    "3. Чистка от аномальных клиентов\n",
    "    \n",
    "Подробные комментарии по ходу работы\n",
    "    \n",
    "Желтые комментарии-рекомендации на твое усмотрение.\n",
    "    \n",
    "Если есть вопросы ко мне, можешь оставить их в отдельном комментарии\n",
    "</div>"
   ]
  },
  {
   "cell_type": "markdown",
   "metadata": {},
   "source": [
    "<div class=\"alert alert-block alert-success\">\n",
    " \n",
    "### Комментарий от ревьюера v_2\n",
    "    \n",
    "Ольга, привет!\n",
    "    \n",
    "Здорово, что не просто исправляешь ошибки, но и обращаешь внимание на рекомендации.\n",
    "\n",
    "У тебя получился отличный проект, успеха в дальнейшем обучении!\n",
    "    \n",
    "Если есть желание поближе познакомиться со статистикой, тервером и аб тестами (при этом глубоко не погружаясь в математические дебри) рекомендую посмотреть цикл лекций Глеба Михайлова (возможно он наставник у тебя)\n",
    "    \n",
    "https://www.youtube.com/playlist?list=PLQJ7ptkRY-xbHLLI66KdscKp_FJt0FsIi\n",
    "    \n",
    "И курсы Карпова по статистике на степике очень рекомендую, в свое время они многое мне дали\n",
    "</div>"
   ]
  },
  {
   "cell_type": "markdown",
   "metadata": {},
   "source": [
    "**Приоритизация гипотез. Анализ А/В теста**\n",
    "\n",
    "**Цель исследования** - провести приоритизацию 9 гипотез по увеличению выручки интернет-магазина. Проанализировать результаты A/B-теста и на их основании сделать выводы.\n",
    "\n",
    "**Объект исследования** \n",
    "- файл /datasets/hypothesis.csv 9 гипотез по увеличению выручки интернет-магазина с указанными параметрами Reach, Impact, Confidence, Effort\n",
    "- результаты A/B-теста, которые описаны в файлах /datasets/orders.csv и /datasets/visitors.csv.\n",
    "\n",
    "**Ход исследования**\n",
    "- Часть 1. Приоритизация гипотез.\n",
    "  - Применить фреймворк ICE для приоритизации гипотез. Отсортировать их по убыванию приоритета.\n",
    "  - Применить фреймворк RICE для приоритизации гипотез. Отсортировать их по убыванию приоритета.\n",
    "  - Выяснить, как изменилась приоритизация гипотез при применении RICE вместо ICE и объяснить, почему так произошло.\n",
    "- Часть 2. Анализ A/B-теста\n",
    "  - Построить график кумулятивной выручки по группам. Сделать выводы и предположения.\n",
    "  - Построить график кумулятивного среднего чека по группам. Сделать выводы и предположения.\n",
    "  - Построить график относительного изменения кумулятивного среднего чека группы B к группе A. Сделать выводы и предположения.\n",
    "  - Построить график кумулятивного среднего количества заказов на посетителя по группам. Сделать выводы и предположения.\n",
    "  - Построить график относительного изменения кумулятивного среднего количества заказов на посетителя группы B к группе A. Сделать выводы и предположения.\n",
    "  - Построить точечный график количества заказов по пользователям. Сделать выводы и предположения.\n",
    "  - Посчитать 95-й и 99-й перцентили количества заказов на пользователя. Выбрать границу для определения аномальных пользователей.\n",
    "  - Построить точечный график стоимостей заказов. Сделать выводы и предположения.\n",
    "  - Посчитать 95-й и 99-й перцентили стоимости заказов. Выбрать границу для определения аномальных заказов.\n",
    "  - Посчитать статистическую значимость различий в среднем количестве заказов на посетителя между группами по «сырым» данным. Сделать выводы и предположения.\n",
    "  - Посчитать статистическую значимость различий в среднем чеке заказа между группами по «сырым» данным. Сделать выводы и предположения.\n",
    "  - Посчитать статистическую значимость различий в среднем количестве заказов на посетителя между группами по «очищенным» данным. Сделать выводы и предположения.\n",
    "  - Посчитать статистическую значимость различий в среднем чеке заказа между группами по «очищенным» данным. Сделать выводы и предположения.\n",
    "  - Принять решение по результатам теста и сформулировать вывод. \n",
    "\n"
   ]
  },
  {
   "cell_type": "markdown",
   "metadata": {},
   "source": [
    "<div class=\"alert alert-block alert-success\">\n",
    "    \n",
    "### Комментарий от ревьюера v_1\n",
    "Отлично\n",
    "    \n",
    "Молодец, что в начале проекте знакомишь с ним, так работа приобретает структуру и лучше воспринимается.\n",
    "    \n",
    "А оглавление из плагина TOC можно перенести, установив галочку \"Add Notebook Toc Cell\"\n",
    "</div>"
   ]
  },
  {
   "cell_type": "markdown",
   "metadata": {},
   "source": [
    "<div class=\"alert alert-block alert-info\">\n",
    "\n",
    "Комментарий студента: Максим, привет! Подскажи, пожалуйста, где устанавливается галочка \"Add Notebook Toc Cell\" и почему пропала нумерация?\n",
    "\n",
    "</div>"
   ]
  },
  {
   "cell_type": "markdown",
   "metadata": {},
   "source": [
    "<div class=\"alert alert-block alert-success\">\n",
    "    \n",
    "### Комментарий от ревьюера v_2\n",
    "    \n",
    "Нумерацию я снял, чтобы мои комментарии номера не получали:) Вернул обратно\n",
    "    \n",
    "Галочка устанавливается в настройках плагина. Слева оглавление, там справа от слова Contents кнопочка с настройками\n",
    "    \n",
    "</div>"
   ]
  },
  {
   "cell_type": "markdown",
   "metadata": {},
   "source": [
    "### Часть. Приоритизация гипотез."
   ]
  },
  {
   "cell_type": "code",
   "execution_count": 1,
   "metadata": {},
   "outputs": [],
   "source": [
    "import pandas as pd\n",
    "import datetime as dt\n",
    "import numpy as np\n",
    "import matplotlib.pyplot as plt\n",
    "import scipy.stats as stats"
   ]
  },
  {
   "cell_type": "markdown",
   "metadata": {},
   "source": [
    "<div class=\"alert alert-block alert-success\">\n",
    "    \n",
    "### Комментарий от ревьюера v_1\n",
    "Отлично\n",
    "    \n",
    "Отлично, библиотеки импортированы в начале тетрадки, в отдельной ячейке.\n",
    "</div>"
   ]
  },
  {
   "cell_type": "code",
   "execution_count": 2,
   "metadata": {},
   "outputs": [
    {
     "name": "stdout",
     "output_type": "stream",
     "text": [
      "                                                                                                     hypothesis  \\\n",
      "0            Добавить два новых канала привлечения трафика, что позволит привлекать на 30% больше пользователей   \n",
      "1                                     Запустить собственную службу доставки, что сократит срок доставки заказов   \n",
      "2  Добавить блоки рекомендаций товаров на сайт интернет магазина, чтобы повысить конверсию и средний чек заказа   \n",
      "3           Изменить структура категорий, что увеличит конверсию, т.к. пользователи быстрее найдут нужный товар   \n",
      "4                              Изменить цвет фона главной страницы, чтобы увеличить вовлеченность пользователей   \n",
      "5                      Добавить страницу отзывов клиентов о магазине, что позволит увеличить количество заказов   \n",
      "6          Показать на главной странице баннеры с актуальными акциями и распродажами, чтобы увеличить конверсию   \n",
      "7              Добавить форму подписки на все основные страницы, чтобы собрать базу клиентов для email-рассылок   \n",
      "8                                                       Запустить акцию, дающую скидку на товар в день рождения   \n",
      "\n",
      "   reach  impact  confidence  efforts  \n",
      "0      3      10           8        6  \n",
      "1      2       5           4       10  \n",
      "2      8       3           7        3  \n",
      "3      8       3           3        8  \n",
      "4      3       1           1        1  \n",
      "5      3       2           2        3  \n",
      "6      5       3           8        3  \n",
      "7     10       7           8        5  \n",
      "8      1       9           9        5  \n"
     ]
    }
   ],
   "source": [
    "data = pd.read_csv('/datasets/hypothesis.csv', sep=',')\n",
    "data.columns = data.columns.str.lower()\n",
    "pd.options.display.max_colwidth = 120\n",
    "\n",
    "print(data)"
   ]
  },
  {
   "cell_type": "markdown",
   "metadata": {},
   "source": [
    "#### Применим фреймворк ICE для приоритизации гипотез. Отсортируем их по убыванию приоритета."
   ]
  },
  {
   "cell_type": "code",
   "execution_count": 3,
   "metadata": {},
   "outputs": [
    {
     "name": "stdout",
     "output_type": "stream",
     "text": [
      "                                                                                                     hypothesis  \\\n",
      "8                                                       Запустить акцию, дающую скидку на товар в день рождения   \n",
      "0            Добавить два новых канала привлечения трафика, что позволит привлекать на 30% больше пользователей   \n",
      "7              Добавить форму подписки на все основные страницы, чтобы собрать базу клиентов для email-рассылок   \n",
      "6          Показать на главной странице баннеры с актуальными акциями и распродажами, чтобы увеличить конверсию   \n",
      "2  Добавить блоки рекомендаций товаров на сайт интернет магазина, чтобы повысить конверсию и средний чек заказа   \n",
      "1                                     Запустить собственную службу доставки, что сократит срок доставки заказов   \n",
      "5                      Добавить страницу отзывов клиентов о магазине, что позволит увеличить количество заказов   \n",
      "3           Изменить структура категорий, что увеличит конверсию, т.к. пользователи быстрее найдут нужный товар   \n",
      "4                              Изменить цвет фона главной страницы, чтобы увеличить вовлеченность пользователей   \n",
      "\n",
      "     ICE  \n",
      "8  16.20  \n",
      "0  13.33  \n",
      "7  11.20  \n",
      "6   8.00  \n",
      "2   7.00  \n",
      "1   2.00  \n",
      "5   1.33  \n",
      "3   1.12  \n",
      "4   1.00  \n"
     ]
    }
   ],
   "source": [
    "data['ICE'] = round((data['impact'] * data['confidence'] / data['efforts']),2)\n",
    "print(data[['hypothesis','ICE']].sort_values(by='ICE', ascending=False))"
   ]
  },
  {
   "cell_type": "markdown",
   "metadata": {},
   "source": [
    "#### Применим фреймворк RICE для приоритизации гипотез. Отсортируем их по убыванию приоритета."
   ]
  },
  {
   "cell_type": "code",
   "execution_count": 4,
   "metadata": {},
   "outputs": [
    {
     "name": "stdout",
     "output_type": "stream",
     "text": [
      "                                                                                                     hypothesis  \\\n",
      "7              Добавить форму подписки на все основные страницы, чтобы собрать базу клиентов для email-рассылок   \n",
      "2  Добавить блоки рекомендаций товаров на сайт интернет магазина, чтобы повысить конверсию и средний чек заказа   \n",
      "0            Добавить два новых канала привлечения трафика, что позволит привлекать на 30% больше пользователей   \n",
      "6          Показать на главной странице баннеры с актуальными акциями и распродажами, чтобы увеличить конверсию   \n",
      "8                                                       Запустить акцию, дающую скидку на товар в день рождения   \n",
      "3           Изменить структура категорий, что увеличит конверсию, т.к. пользователи быстрее найдут нужный товар   \n",
      "1                                     Запустить собственную службу доставки, что сократит срок доставки заказов   \n",
      "5                      Добавить страницу отзывов клиентов о магазине, что позволит увеличить количество заказов   \n",
      "4                              Изменить цвет фона главной страницы, чтобы увеличить вовлеченность пользователей   \n",
      "\n",
      "    RICE  \n",
      "7  112.0  \n",
      "2   56.0  \n",
      "0   40.0  \n",
      "6   40.0  \n",
      "8   16.2  \n",
      "3    9.0  \n",
      "1    4.0  \n",
      "5    4.0  \n",
      "4    3.0  \n"
     ]
    }
   ],
   "source": [
    "data['RICE'] = data['reach'] * data['impact'] * data['confidence'] / data['efforts']\n",
    "print(data[['hypothesis','RICE']].sort_values(by='RICE', ascending=False))"
   ]
  },
  {
   "cell_type": "markdown",
   "metadata": {},
   "source": [
    "На способ приоритизации задач RICE в отличие от метода ICE влияет 4 параметра. Добавляется влияние параметра REACH. Чем выше значение REACH, тем выше значение RICE. Параметры методов ICE и RICE в данном проекте оценивают по шкале от 0 до 10. \n",
    "\n",
    "Reach — скольких пользователей затронет изменение, которое вы хотите внести;\n",
    "Impact — насколько сильно изменение повлияет на пользователей, их опыт и удовлетворение от продукта;\n",
    "Confidence — насколько вы уверены, что это изменение повлияет на пользователей именно так;\n",
    "Efforts — сколько стоит протестировать эту гипотезу.\n",
    "\n",
    "Методом ICE были выявлены следующие приоритетные гипотезы:\n",
    "- Запустить акцию, дающую скидку на товар в день...\n",
    "- Добавить два новых канала привлечения трафика\n",
    "\n",
    "Методом RICE были выявлены следующие приоритетные гипотезы:\n",
    "- Добавить форму подписки на все основные страни...\n",
    "- Добавить блоки рекомендаций товаров на сайт ин...\n",
    " \n",
    "Смена приоритизации гипотез при применении RICE вместо ICE связана с влиянием высокого значения параметра REACH = 10 в сокопуности с высокими значениями параметров  Impact и Confidence и невысоким значением параметра Efforts. Так как парамететр REACH для гипотезы  'Запустить акцию, дающую скидку на товар в день...' равен 1, то параметр ICE равен параметру RICE для данной гипотезы. В то время, как для гипотезы  'Добавить форму подписки на все основные страни...' значение параметра RICE выросло в 10 раз по сравнению с параметром ICE\n"
   ]
  },
  {
   "cell_type": "markdown",
   "metadata": {},
   "source": [
    "<div class=\"alert alert-block alert-success\">\n",
    "    \n",
    "\n",
    "### Комментарий от ревьюера v_1\n",
    "Отлично\n",
    "    \n",
    "Отлично, гипотезы приоритизировали\n",
    "    \n",
    "Для того, чтобы гипотезы отобразились целиком следует использовать параметр:\n",
    "    \n",
    "    pd.options.display.max_colwidth = 120\n",
    "    \n",
    "Для более читаемого вида можно округлить значения ICE до 2 знака после запятой\n",
    "</div>"
   ]
  },
  {
   "cell_type": "markdown",
   "metadata": {},
   "source": [
    "<div class=\"alert alert-block alert-info\">\n",
    "\n",
    "Комментарий студента: гипотезы отобразила, значения округлила. Спасибо за информацию!\n",
    "\n",
    "</div>"
   ]
  },
  {
   "cell_type": "markdown",
   "metadata": {},
   "source": [
    "### Часть. Анализ A/B-теста"
   ]
  },
  {
   "cell_type": "markdown",
   "metadata": {},
   "source": [
    "<div class=\"alert alert-block alert-danger\">\n",
    "    \n",
    "\n",
    "### Комментарий от ревьюера v_1\n",
    "Критично\n",
    "\n",
    "Перед анализом следует проверить качество данных:\n",
    "    \n",
    "- дать оценку пропущенным значениям (если они есть)\n",
    "- проверит тип данных\n",
    "- проверить датасет на дубликаты\n",
    "- привести данные к нужным типам\n",
    "- прокомментировать данные, с которыми предстоит работать\n",
    "\n",
    "</div>"
   ]
  },
  {
   "cell_type": "markdown",
   "metadata": {},
   "source": [
    "<div class=\"alert alert-block alert-info\">\n",
    "\n",
    "Комментарий студента: Мы провели A/B-тест и получили результаты, которые описаны в файлах /datasets/orders.csv и /datasets/visitors.csv. Проверим качество данных\n",
    "\n",
    "</div>"
   ]
  },
  {
   "cell_type": "code",
   "execution_count": 5,
   "metadata": {},
   "outputs": [
    {
     "name": "stdout",
     "output_type": "stream",
     "text": [
      "   transactionId   visitorId        date  revenue group\n",
      "0     3667963787  3312258926  2019-08-15     1650     B\n",
      "1     2804400009  3642806036  2019-08-15      730     B\n",
      "2     2961555356  4069496402  2019-08-15      400     A\n",
      "3     3797467345  1196621759  2019-08-15     9759     B\n",
      "4     2282983706  2322279887  2019-08-15     2308     B\n",
      "<class 'pandas.core.frame.DataFrame'>\n",
      "RangeIndex: 1197 entries, 0 to 1196\n",
      "Data columns (total 5 columns):\n",
      " #   Column         Non-Null Count  Dtype \n",
      "---  ------         --------------  ----- \n",
      " 0   transactionId  1197 non-null   int64 \n",
      " 1   visitorId      1197 non-null   int64 \n",
      " 2   date           1197 non-null   object\n",
      " 3   revenue        1197 non-null   int64 \n",
      " 4   group          1197 non-null   object\n",
      "dtypes: int64(3), object(2)\n",
      "memory usage: 46.9+ KB\n",
      "         date group  visitors\n",
      "0  2019-08-01     A       719\n",
      "1  2019-08-02     A       619\n",
      "2  2019-08-03     A       507\n",
      "3  2019-08-04     A       717\n",
      "4  2019-08-05     A       756\n",
      "<class 'pandas.core.frame.DataFrame'>\n",
      "RangeIndex: 62 entries, 0 to 61\n",
      "Data columns (total 3 columns):\n",
      " #   Column    Non-Null Count  Dtype \n",
      "---  ------    --------------  ----- \n",
      " 0   date      62 non-null     object\n",
      " 1   group     62 non-null     object\n",
      " 2   visitors  62 non-null     int64 \n",
      "dtypes: int64(1), object(2)\n",
      "memory usage: 1.6+ KB\n"
     ]
    }
   ],
   "source": [
    "# Откроем файлы с данными и изучим информацию\n",
    "\n",
    "orders = pd.read_csv('/datasets/orders.csv', sep=',')\n",
    "visitors = pd.read_csv('/datasets/visitors.csv', sep=',')\n",
    "print(orders.head(5))\n",
    "orders.info()\n",
    "print(visitors.head(5))\n",
    "visitors.info()"
   ]
  },
  {
   "cell_type": "markdown",
   "metadata": {},
   "source": [
    "<div class=\"alert alert-block alert-info\">\n",
    "\n",
    "Комментарий студента: Проверим данные на наличие дубликатов\n",
    "\n",
    "</div>"
   ]
  },
  {
   "cell_type": "code",
   "execution_count": 6,
   "metadata": {},
   "outputs": [
    {
     "name": "stdout",
     "output_type": "stream",
     "text": [
      "Дубликатов в таблице: 0\n",
      "Дубликатов в таблице: 0\n"
     ]
    }
   ],
   "source": [
    "print ('Дубликатов в таблице:', orders.duplicated().sum())\n",
    "print ('Дубликатов в таблице:', visitors.duplicated().sum())"
   ]
  },
  {
   "cell_type": "markdown",
   "metadata": {},
   "source": [
    "<div class=\"alert alert-block alert-info\">\n",
    "\n",
    "Комментарий студента: Приведем тип данных orders['date'] и visitors['date'] к типу datetime. А также приведем названия столбцов к общепринятым.\n",
    "\n",
    "</div>"
   ]
  },
  {
   "cell_type": "code",
   "execution_count": 7,
   "metadata": {},
   "outputs": [],
   "source": [
    "orders['date'] = orders['date'].map(\n",
    "    lambda x: dt.datetime.strptime(x, '%Y-%m-%d')\n",
    ")\n",
    "orders = orders.rename(columns={'transactionId': 'transaction_id', 'visitorId' : 'visitor_id'})\n",
    "\n",
    "visitors['date'] = visitors['date'].map(\n",
    "    lambda x: dt.datetime.strptime(x, '%Y-%m-%d')\n",
    ")"
   ]
  },
  {
   "cell_type": "markdown",
   "metadata": {},
   "source": [
    "<div class=\"alert alert-block alert-info\">\n",
    "\n",
    "#### Комментарий студента: \n",
    "     Провели проверку данных\n",
    "    - пропуски в данных не обнаружены\n",
    "    - дубликаты в данных не обнаружены\n",
    "    - тип данных столбцов orders['date'] и visitors['date'] привели к типу datetime\n",
    "    - тип остальных данных соответствует и не требует приведения.\n",
    "\n",
    "</div>"
   ]
  },
  {
   "cell_type": "markdown",
   "metadata": {},
   "source": [
    "<div class=\"alert alert-block alert-success\">\n",
    "    \n",
    "\n",
    "### Комментарий от ревьюера v_2\n",
    "    \n",
    "👍🏻\n",
    "    \n",
    "Рекомендую завернуть эти проверки в функцию и использовать ее в последуюших работах\n",
    "</div>"
   ]
  },
  {
   "cell_type": "markdown",
   "metadata": {},
   "source": [
    "<div class=\"alert alert-block alert-warning\">\n",
    "    \n",
    "\n",
    "### Комментарий от ревьюера v_1\n",
    "Рекомендация\n",
    "\n",
    "Перед тем как приступать к анализу рекомендую детальнее изучить данные, а именно:\n",
    "    \n",
    "- сколько у нас групп в АВ-тесте;\n",
    "- даты начала и окончания теста;\n",
    "- сколько пользователей в каждой группе - по таблице с заказами;\n",
    "- не попадают ли какие-то пользователи в обе группы - по таблице с заказами.\n",
    "</div>"
   ]
  },
  {
   "cell_type": "markdown",
   "metadata": {},
   "source": [
    "<div class=\"alert alert-block alert-info\">\n",
    "\n",
    "Комментарий студента: Добавила код изучения данных\n",
    "\n",
    "</div>"
   ]
  },
  {
   "cell_type": "code",
   "execution_count": 8,
   "metadata": {},
   "outputs": [
    {
     "name": "stdout",
     "output_type": "stream",
     "text": [
      "['B' 'A']\n",
      "2019-08-01 00:00:00\n",
      "2019-08-31 00:00:00\n"
     ]
    }
   ],
   "source": [
    "# Определим количетво групп в А/В тесте, а также дату начала и окончания теста\n",
    "print(orders['group'].unique())\n",
    "print(orders['date'].min())\n",
    "print(orders['date'].max())"
   ]
  },
  {
   "cell_type": "code",
   "execution_count": 9,
   "metadata": {},
   "outputs": [
    {
     "name": "stdout",
     "output_type": "stream",
     "text": [
      "       visitor_id\n",
      "group            \n",
      "A             557\n",
      "B             640\n"
     ]
    }
   ],
   "source": [
    "# Определим количество пользователей в каждой группе\n",
    "print(orders.pivot_table(index= 'group', values='visitor_id', aggfunc='count'))"
   ]
  },
  {
   "cell_type": "code",
   "execution_count": 10,
   "metadata": {},
   "outputs": [],
   "source": [
    "# проверим, не попадают ли какие-то пользователи в обе группы\n",
    "#orders_a = orders.query('group == \"A\"')\n",
    "#orders_b = orders.query('group == \"B\"')\n",
    "#for visitor_id_a in orders_a['visitor_id']:\n",
    "#    if visitor_id_a in orders_b['visitor_id']:\n",
    "#        print(visitor_id_a)\n",
    "#print('нет такого пользователя, который попадает в обе группы')    "
   ]
  },
  {
   "cell_type": "code",
   "execution_count": 11,
   "metadata": {},
   "outputs": [
    {
     "name": "stdout",
     "output_type": "stream",
     "text": [
      "58\n"
     ]
    }
   ],
   "source": [
    "print((orders.groupby('visitor_id').agg({'group' : 'nunique'}).reset_index().query('group>1')['visitor_id']).count())"
   ]
  },
  {
   "cell_type": "markdown",
   "metadata": {},
   "source": [
    "<div class=\"alert alert-block alert-warning\">\n",
    "    \n",
    "### Комментарий от ревьюера v_2\n",
    "Рекомендация\n",
    "\n",
    "При проверке вхождения в Series проверяется вхождение не в значения, а в индексы. Поэтому ты и не находишь таких пользователей\n",
    "    \n",
    "Такие расчеты следует с помощью группировки делать\n",
    "    \n",
    "```python\n",
    "orders.groupby('visitorId').agg({'group' : 'nunique'}).reset_index().query('group>1')['visitorId']\n",
    "```\n",
    "</div>"
   ]
  },
  {
   "cell_type": "markdown",
   "metadata": {},
   "source": [
    "#### Построим график кумулятивной выручки по группам. Сделаем выводы и предположения."
   ]
  },
  {
   "cell_type": "code",
   "execution_count": 12,
   "metadata": {},
   "outputs": [
    {
     "name": "stdout",
     "output_type": "stream",
     "text": [
      "        date group  orders  buyers  revenue  visitors\n",
      "0 2019-08-01     A      24      20   148579       719\n",
      "1 2019-08-01     B      21      20   101217       713\n",
      "2 2019-08-02     A      44      38   242401      1338\n",
      "3 2019-08-02     B      45      43   266748      1294\n",
      "4 2019-08-03     A      68      62   354874      1845\n"
     ]
    }
   ],
   "source": [
    "# создаем массив уникальных пар значений дат и групп теста\n",
    "datesGroups = orders[['date','group']].drop_duplicates()\n",
    "\n",
    "# получаем агрегированные кумулятивные по дням данные о заказах \n",
    "ordersAggregated = datesGroups.apply(lambda x: orders[np.logical_and(orders['date'] <= x['date'], orders['group'] == x['group'])].agg({'date' : 'max', 'group' : 'max', 'transaction_id' : 'nunique', 'visitor_id' : 'nunique', 'revenue' : 'sum'}), axis=1).sort_values(by=['date','group'])\n",
    "\n",
    "# получаем агрегированные кумулятивные по дням данные о посетителях интернет-магазина \n",
    "visitorsAggregated = datesGroups.apply(lambda x: visitors[np.logical_and(visitors['date'] <= x['date'], visitors['group'] == x['group'])].agg({'date' : 'max', 'group' : 'max', 'visitors' : 'sum'}), axis=1).sort_values(by=['date','group'])\n",
    "\n",
    "# объединяем кумулятивные данные в одной таблице и присваиваем ее столбцам понятные названия\n",
    "cumulativeData = ordersAggregated.merge(visitorsAggregated, left_on=['date', 'group'], right_on=['date', 'group'])\n",
    "cumulativeData.columns = ['date', 'group', 'orders', 'buyers', 'revenue', 'visitors']\n",
    "\n",
    "print(cumulativeData.head(5)) "
   ]
  },
  {
   "cell_type": "code",
   "execution_count": 13,
   "metadata": {},
   "outputs": [
    {
     "data": {
      "image/png": "[encoded data removed]",
      "text/plain": [
       "<Figure size 432x288 with 1 Axes>"
      ]
     },
     "metadata": {
      "needs_background": "light"
     },
     "output_type": "display_data"
    }
   ],
   "source": [
    "# Построим графики кумулятивной выручки по дням и группам A/B-тестирования\n",
    "\n",
    "# датафрейм с кумулятивным количеством заказов и кумулятивной выручкой по дням в группе А\n",
    "cumulativeRevenueA = cumulativeData[cumulativeData['group']=='A'][['date','revenue', 'orders']]\n",
    "#print(cumulativeRevenueA.head())\n",
    "\n",
    "# датафрейм с кумулятивным количеством заказов и кумулятивной выручкой по дням в группе B\n",
    "cumulativeRevenueB = cumulativeData[cumulativeData['group']=='B'][['date','revenue', 'orders']]\n",
    "\n",
    "# Строим график выручки группы А\n",
    "plt.plot(cumulativeRevenueA['date'], cumulativeRevenueA['revenue'], label='A')\n",
    "\n",
    "# Строим график выручки группы B\n",
    "plt.plot(cumulativeRevenueB['date'], cumulativeRevenueB['revenue'], label='B')\n",
    "plt.xticks(fontsize=10, rotation=45)\n",
    "plt.legend() \n",
    "plt.ylabel('Кумулятивная выручка')\n",
    "plt.xlabel('Дата теста')\n",
    "plt.title('График кумулятивной выручки по дням и группам A/B-тестирования',  x=0.5, y=1.1);\n"
   ]
  },
  {
   "cell_type": "markdown",
   "metadata": {},
   "source": [
    "##### Вывод\n",
    "\n",
    "- Выручка в обеих группах увеличивается в течение всего теста.\n",
    "- В группе B более высокие показатели выручки\n",
    "- в группе B наблюдается резкий скачок выручки. Это может свидетельствовать о резком увеличении числа заказов, либо о появлении очень дорогих заказов в выборке."
   ]
  },
  {
   "cell_type": "markdown",
   "metadata": {},
   "source": [
    "<div class=\"alert alert-block alert-success\">\n",
    "    \n",
    "\n",
    "### Комментарий от ревьюера v_1\n",
    "Отлично\n",
    "    \n",
    "Молодец, что обращаешь внимание на необычный скачок и даешь предположения как он мог появиться 👍\n",
    "    \n",
    "Чтобы не выводить техническую информацию, а только сам график, ставь в конце кода ;\n",
    "    \n",
    "</div>"
   ]
  },
  {
   "cell_type": "markdown",
   "metadata": {},
   "source": [
    "<div class=\"alert alert-block alert-danger\">\n",
    "    \n",
    "\n",
    "### Комментарий от ревьюера v_1\n",
    "Критично\n",
    "\n",
    "На всех графиках следует подписать оси (в том числе и на точечных)\n",
    "    \n",
    "А чтобы значения по оси Х не сливались, следует обратиться к параметру xticks\n",
    "    \n",
    "</div>"
   ]
  },
  {
   "cell_type": "markdown",
   "metadata": {},
   "source": [
    "<div class=\"alert alert-block alert-info\">\n",
    "\n",
    "Комментарий студента: Внесла исправления в графики\n",
    "\n",
    "</div>"
   ]
  },
  {
   "cell_type": "markdown",
   "metadata": {},
   "source": [
    "<div class=\"alert alert-block alert-success\">\n",
    "\n",
    "    \n",
    "### Комментарий от ревьюера v_2\n",
    "\n",
    "👍🏻\n",
    "    \n",
    "</div>"
   ]
  },
  {
   "cell_type": "markdown",
   "metadata": {},
   "source": [
    "#### Построим график кумулятивного среднего чека по группам. Сделаем выводы и предположения."
   ]
  },
  {
   "cell_type": "code",
   "execution_count": 14,
   "metadata": {},
   "outputs": [
    {
     "data": {
      "image/png": "[encoded data removed]",
      "text/plain": [
       "<Figure size 432x288 with 1 Axes>"
      ]
     },
     "metadata": {
      "needs_background": "light"
     },
     "output_type": "display_data"
    }
   ],
   "source": [
    "# Построим графики среднего чека по группам — разделим кумулятивную выручку на кумулятивное число заказов\n",
    "\n",
    "plt.plot(cumulativeRevenueA['date'], cumulativeRevenueA['revenue']/cumulativeRevenueA['orders'], label='A')\n",
    "plt.plot(cumulativeRevenueB['date'], cumulativeRevenueB['revenue']/cumulativeRevenueB['orders'], label='B')\n",
    "plt.xticks(fontsize=10, rotation=45)\n",
    "plt.legend() \n",
    "plt.ylabel('Кумулятивный средний чек')\n",
    "plt.xlabel('Дата теста')\n",
    "plt.title('График кумулятивного среднего чека по группам',  x=0.5, y=1.1);\n"
   ]
  },
  {
   "cell_type": "markdown",
   "metadata": {},
   "source": [
    "##### Вывод\n",
    "\n",
    "- Средний чек становится равномерным ближе к концу теста для групп А и В. \n",
    "- Наблюдается резкий рост среднего чека для группы В в середине теста.  Возможно, в группу B в первой половине теста попали крупные заказы (резкий всплеск на графике). "
   ]
  },
  {
   "cell_type": "markdown",
   "metadata": {},
   "source": [
    "<div class=\"alert alert-block alert-success\">\n",
    "    \n",
    "\n",
    "### Комментарий от ревьюера v_1\n",
    "Отлично\n",
    "    \n",
    "Вот и выяснили откуда такой скачок был))\n",
    "    \n",
    "Интересно было бы посмотреть на график без явного выброса\n",
    "    \n",
    "</div>"
   ]
  },
  {
   "cell_type": "markdown",
   "metadata": {},
   "source": [
    "#### Построим график относительного изменения кумулятивного среднего чека группы B к группе A. Сделаем выводы и предположения."
   ]
  },
  {
   "cell_type": "code",
   "execution_count": 15,
   "metadata": {},
   "outputs": [
    {
     "data": {
      "image/png": "[encoded data removed]",
      "text/plain": [
       "<Figure size 432x288 with 1 Axes>"
      ]
     },
     "metadata": {
      "needs_background": "light"
     },
     "output_type": "display_data"
    }
   ],
   "source": [
    "# собираем данные в одном датафрейме\n",
    "mergedCumulativeRevenue = cumulativeRevenueA.merge(cumulativeRevenueB, left_on='date', right_on='date', how='left', suffixes=['A', 'B'])\n",
    "\n",
    "# cтроим отношение средних чеков\n",
    "plt.plot(mergedCumulativeRevenue['date'], (mergedCumulativeRevenue['revenueB']/mergedCumulativeRevenue['ordersB'])/(mergedCumulativeRevenue['revenueA']/mergedCumulativeRevenue['ordersA'])-1)\n",
    "\n",
    "# добавляем ось X\n",
    "plt.axhline(y=0, color='black', linestyle='--') \n",
    "plt.xticks(fontsize=10, rotation=45)\n",
    "plt.ylabel('Отн. изменение кумулятивного среднего чека')\n",
    "plt.xlabel('Дата теста')\n",
    "plt.title(' относительного изменения кумулятивного среднего чека группы B к группе A',x=0.5, y=1.1);"
   ]
  },
  {
   "cell_type": "markdown",
   "metadata": {},
   "source": [
    "##### Вывод\n",
    "\n",
    "- График показывает, что практически весь тестовый период кумулятивный средний чек группы B превышает чек группы А, большую часть времени значение относительного изменения кумулятивного среднего чека выше нуля.  \n",
    "- Снова наблюдаются резкие скачки на графике, предполагаем наличие аномальных по количеству или по сумме заказов. "
   ]
  },
  {
   "cell_type": "markdown",
   "metadata": {},
   "source": [
    "#### Построим график кумулятивного среднего количества заказов на посетителя по группам. Сделаем выводы и предположения."
   ]
  },
  {
   "cell_type": "code",
   "execution_count": 16,
   "metadata": {},
   "outputs": [
    {
     "data": {
      "image/png": "[encoded data removed]",
      "text/plain": [
       "<Figure size 432x288 with 1 Axes>"
      ]
     },
     "metadata": {
      "needs_background": "light"
     },
     "output_type": "display_data"
    }
   ],
   "source": [
    "# Построим графики среднего количества заказов по группам — разделим кумулятивное количество заказов на кумулятивное число посетителей\n",
    "\n",
    "# считаем кумулятивную конверсию\n",
    "cumulativeData['conversion'] = cumulativeData['orders']/cumulativeData['visitors']\n",
    "\n",
    "# отделяем данные по группе A\n",
    "cumulativeDataA = cumulativeData[cumulativeData['group']=='A']\n",
    "\n",
    "# отделяем данные по группе B\n",
    "cumulativeDataB = cumulativeData[cumulativeData['group']=='B']\n",
    "\n",
    "# строим графики\n",
    "plt.plot(cumulativeDataA['date'], cumulativeDataA['conversion'], label='A')\n",
    "plt.plot(cumulativeDataB['date'], cumulativeDataB['conversion'], label='B')\n",
    "plt.xticks(fontsize=10, rotation=45)\n",
    "plt.legend() \n",
    "plt.ylabel(' кумулятивное среднее количество заказов')\n",
    "plt.xlabel('Дата теста')\n",
    "plt.title('График кумулятивного среднего количества заказов на посетителя по группам',  x=0.5, y=1.1);"
   ]
  },
  {
   "cell_type": "markdown",
   "metadata": {},
   "source": [
    "##### Вывод\n",
    "\n",
    "- кумулятивное среднее количество заказов на посетителя в группе B превышает кумулятивное среднее количество заказов на посетителя в группе А на протяжении большей части теста. Среднее значение в группе В в начале теста уступало среднему значению в группе А, но после начало стремительно расти и значительно превысило среднее значение в группе А."
   ]
  },
  {
   "cell_type": "markdown",
   "metadata": {},
   "source": [
    "<div class=\"alert alert-block alert-warning\">\n",
    "    \n",
    "\n",
    "### Комментарий от ревьюера v_1\n",
    "Рекомендация\n",
    "    \n",
    "Тут все верно, только это не конверсия, а среднее число заказов. Конверсия - это переход из посетителя в покупатели, независимо от количество покупок. И в данной работе мы не можем посчитать конверсию, потому что данные по посещениям у нас агрегированные     \n",
    "</div>"
   ]
  },
  {
   "cell_type": "markdown",
   "metadata": {},
   "source": [
    "<div class=\"alert alert-block alert-info\">\n",
    "\n",
    "Комментарий студента: убрала термин 'конверсия'\n",
    "\n",
    "</div>"
   ]
  },
  {
   "cell_type": "markdown",
   "metadata": {},
   "source": [
    "#### Постройте график относительного изменения кумулятивного среднего количества заказов на посетителя группы B к группе A. Сделайте выводы и предположения."
   ]
  },
  {
   "cell_type": "code",
   "execution_count": 17,
   "metadata": {},
   "outputs": [
    {
     "data": {
      "image/png": "[encoded data removed]",
      "text/plain": [
       "<Figure size 432x288 with 1 Axes>"
      ]
     },
     "metadata": {
      "needs_background": "light"
     },
     "output_type": "display_data"
    }
   ],
   "source": [
    "mergedCumulativeConversions = cumulativeDataA[['date','conversion']].merge(cumulativeDataB[['date','conversion']], left_on='date', right_on='date', how='left', suffixes=['A', 'B'])\n",
    "\n",
    "plt.plot(mergedCumulativeConversions['date'], mergedCumulativeConversions['conversionB']/mergedCumulativeConversions['conversionA']-1, label=\"Относительный прирост конверсии группы B относительно группы A\")\n",
    "plt.legend()\n",
    "\n",
    "plt.axhline(y=0, color='black', linestyle='--')\n",
    "plt.axhline(y=0.15, color='grey', linestyle='--')\n",
    "plt.axhline(y=0.10, color='grey', linestyle='--')\n",
    "plt.legend(bbox_to_anchor=(1.02, 0.1), loc='upper left', borderaxespad=0)\n",
    "plt.xticks(fontsize=10, rotation=45)\n",
    "plt.ylabel('относит. изменение кумулятивного среднего количества заказов')\n",
    "plt.xlabel('Дата теста')\n",
    "plt.title('График относительного изменения кумулятивного среднего количества заказов на посетителя группы B к группе A',  x=1.0, y=1.1);"
   ]
  },
  {
   "cell_type": "markdown",
   "metadata": {},
   "source": [
    "##### Вывод\n",
    "\n",
    "- вначале теста конверсия в группе B уступала конверсии в группе А, потом на небольшой период вырвалась вперед, снова упала и после начала стремительно расти.\n",
    "- в конце теста конверсия группы В показывает рост. Относительный прирост сотавляет порядка 15 %."
   ]
  },
  {
   "cell_type": "markdown",
   "metadata": {},
   "source": [
    "<div class=\"alert alert-block alert-success\">\n",
    "    \n",
    "\n",
    "### Комментарий от ревьюера v_1\n",
    "Отлично\n",
    "    \n",
    "Отличный график, но если добавить еще одну axhline, например, на 0.10, то будет наглядно видно, что на протяжении почти всего теста число заказов группы B было выше более чем на 10%\n",
    "    \n",
    "</div>"
   ]
  },
  {
   "cell_type": "markdown",
   "metadata": {},
   "source": [
    "#### Построим точечный график количества заказов по пользователям. Сделаем выводы и предположения."
   ]
  },
  {
   "cell_type": "code",
   "execution_count": 18,
   "metadata": {},
   "outputs": [
    {
     "name": "stdout",
     "output_type": "stream",
     "text": [
      "          userId  orders\n",
      "1023  4256040402      11\n",
      "591   2458001652      11\n",
      "569   2378935119       9\n",
      "487   2038680547       8\n",
      "44     199603092       5\n",
      "744   3062433592       5\n",
      "55     237748145       5\n",
      "917   3803269165       5\n",
      "299   1230306981       5\n",
      "897   3717692402       5\n"
     ]
    },
    {
     "data": {
      "image/png": "[encoded data removed]",
      "text/plain": [
       "<Figure size 432x288 with 1 Axes>"
      ]
     },
     "metadata": {
      "needs_background": "light"
     },
     "output_type": "display_data"
    }
   ],
   "source": [
    "ordersByUsers = (\n",
    "    orders.groupby('visitor_id', as_index=False)\n",
    "    .agg({'transaction_id': 'nunique'})\n",
    ")\n",
    "ordersByUsers.columns = ['userId', 'orders']\n",
    "\n",
    "print(ordersByUsers.sort_values(by='orders', ascending=False).head(10))\n",
    "\n",
    "# серия из чисел от 0 до количества наблюдений в ordersByUsers\n",
    "x_values = pd.Series(range(0, len(ordersByUsers)))\n",
    "plt.scatter(x_values, ordersByUsers['orders']) \n",
    "\n",
    "plt.ylabel('Kоличество заказов')\n",
    "plt.xlabel('Пользователи')\n",
    "plt.title('Точечный график количества заказов по пользователям.');"
   ]
  },
  {
   "cell_type": "markdown",
   "metadata": {},
   "source": [
    "##### Вывод\n",
    "\n",
    "Пользователей, сделавших заказ более двух раз, совсем мало. Далее проверим, можно ли их считать аномальными. "
   ]
  },
  {
   "cell_type": "markdown",
   "metadata": {},
   "source": [
    "#### Посчитаем 95-й и 99-й перцентили количества заказов на пользователя. Выберем границу для определения аномальных пользователей."
   ]
  },
  {
   "cell_type": "code",
   "execution_count": 19,
   "metadata": {},
   "outputs": [
    {
     "name": "stdout",
     "output_type": "stream",
     "text": [
      "[2. 4.]\n"
     ]
    }
   ],
   "source": [
    "print(np.percentile(ordersByUsers['orders'], [95, 99])) "
   ]
  },
  {
   "cell_type": "markdown",
   "metadata": {},
   "source": [
    "##### Вывод\n",
    "\n",
    "- Не более 5% пользователей совершили больше 2-х заказов. И не более 1% пользователей совершали больше 4-х заказов."
   ]
  },
  {
   "cell_type": "markdown",
   "metadata": {},
   "source": [
    "#### Построим точечный график стоимостей заказов. Сделаем выводы и предположения."
   ]
  },
  {
   "cell_type": "code",
   "execution_count": 20,
   "metadata": {},
   "outputs": [
    {
     "name": "stdout",
     "output_type": "stream",
     "text": [
      "      transaction_id  visitor_id       date  revenue group\n",
      "425        590470918  1920142716 2019-08-19  1294500     B\n",
      "1196      3936777065  2108080724 2019-08-15   202740     B\n",
      "858        192721366  1316129916 2019-08-27    93940     A\n",
      "1136       666610489  1307669133 2019-08-13    92550     A\n",
      "744       3668308183   888512513 2019-08-27    86620     B\n",
      "682       1216533772  4266935830 2019-08-29    78990     B\n",
      "662       1811671147  4266935830 2019-08-29    78990     A\n",
      "743       3603576309  4133034833 2019-08-09    67990     A\n",
      "1103      1348774318  1164614297 2019-08-12    66350     A\n",
      "1099       316924019   148427295 2019-08-12    65710     A\n"
     ]
    },
    {
     "data": {
      "image/png": "[encoded data removed]",
      "text/plain": [
       "<Figure size 432x288 with 1 Axes>"
      ]
     },
     "metadata": {
      "needs_background": "light"
     },
     "output_type": "display_data"
    }
   ],
   "source": [
    "print(orders.sort_values(by='revenue', ascending=False).head(10))\n",
    "x_values = pd.Series(range(0, len(orders['revenue'])))\n",
    "#plt.hist(orders['revenue']) \n",
    "plt.scatter(x_values, orders['revenue']) \n",
    "plt.ylabel('Стоимость заказа')\n",
    "plt.xlabel('Пользователи')\n",
    "plt.title('Точечный график стоимостей заказов по пользователям.');"
   ]
  },
  {
   "cell_type": "code",
   "execution_count": 21,
   "metadata": {},
   "outputs": [
    {
     "data": {
      "image/png": "[encoded data removed]",
      "text/plain": [
       "<Figure size 432x288 with 1 Axes>"
      ]
     },
     "metadata": {
      "needs_background": "light"
     },
     "output_type": "display_data"
    }
   ],
   "source": [
    "orders_not_anomal = orders.query('revenue < 1200000')\n",
    "\n",
    "#print(orders_not_anomal.sort_values(by='revenue', ascending=False).head(10))\n",
    "x_values = pd.Series(range(0, len(orders_not_anomal['revenue'])))\n",
    "#plt.hist(orders['revenue']) \n",
    "plt.scatter(x_values, orders_not_anomal['revenue']) \n",
    "plt.ylabel('Стоимость заказа')\n",
    "plt.xlabel('Пользователи')\n",
    "plt.title('Точечный график стоимостей заказов по пользователям без аномального значения.');"
   ]
  },
  {
   "cell_type": "markdown",
   "metadata": {},
   "source": [
    "##### Вывод\n",
    "\n",
    "-  Заказы, стоимостью 200 тыс и 1,2 млн. выглядят аномальными\n",
    "-  Стоимость большинства заказов не превышает 25000."
   ]
  },
  {
   "cell_type": "markdown",
   "metadata": {},
   "source": [
    "<div class=\"alert alert-block alert-warning\">\n",
    "\n",
    "\n",
    "### Комментарий от ревьюера v_1\n",
    "Рекомендация\n",
    "    \n",
    "Из-за одного явного выброса все значения слились в одну прямую, рекомендую нарисовать еще и график без него\n",
    "</div>"
   ]
  },
  {
   "cell_type": "markdown",
   "metadata": {},
   "source": [
    "<div class=\"alert alert-block alert-info\">\n",
    "\n",
    "Комментарий студента: построила график без выброса\n",
    "\n",
    "</div>"
   ]
  },
  {
   "cell_type": "markdown",
   "metadata": {},
   "source": [
    "<div class=\"alert alert-block alert-success\">\n",
    "\n",
    "    \n",
    "### Комментарий от ревьюера v_2\n",
    "\n",
    "👍🏻\n",
    "    \n",
    "</div>"
   ]
  },
  {
   "cell_type": "markdown",
   "metadata": {},
   "source": [
    "#### Посчитаем 95-й и 99-й перцентили стоимости заказов. Выберем границу для определения аномальных заказов."
   ]
  },
  {
   "cell_type": "code",
   "execution_count": 22,
   "metadata": {},
   "outputs": [
    {
     "name": "stdout",
     "output_type": "stream",
     "text": [
      "[28000.  58233.2]\n"
     ]
    }
   ],
   "source": [
    "print(np.percentile(orders['revenue'], [95, 99])) "
   ]
  },
  {
   "cell_type": "markdown",
   "metadata": {},
   "source": [
    "##### Вывод\n",
    "\n",
    "- Не более 5% пользователей совершили покупку дороже 28000. И не более 1% пользователей совершили покупку дороже 58000."
   ]
  },
  {
   "cell_type": "markdown",
   "metadata": {},
   "source": [
    "<div class=\"alert alert-block alert-warning\">\n",
    "\n",
    "\n",
    "### Комментарий от ревьюера v_1\n",
    "Рекомендация\n",
    "    \n",
    "На этом шаге следует определить границы аномалий, по которым будешь очищать данные\n",
    "</div>"
   ]
  },
  {
   "cell_type": "markdown",
   "metadata": {},
   "source": [
    "<div class=\"alert alert-block alert-info\">\n",
    "\n",
    "Комментарий студента: Аномальными будем считать пользователей, которые совершили больше 2-х заказов, а также заказы дороже 28000\n",
    "\n",
    "</div>"
   ]
  },
  {
   "cell_type": "markdown",
   "metadata": {},
   "source": [
    "<div class=\"alert alert-block alert-success\">\n",
    "\n",
    "    \n",
    "### Комментарий от ревьюера v_2\n",
    "\n",
    "👍🏻\n",
    "    \n",
    "</div>"
   ]
  },
  {
   "cell_type": "markdown",
   "metadata": {},
   "source": [
    "#### Посчитаем статистическую значимость различий в среднем количестве заказов на посетителя между группами по «сырым» данным. Сделаем выводы и предположения."
   ]
  },
  {
   "cell_type": "markdown",
   "metadata": {},
   "source": [
    "Сформулируем гипотезы. \n",
    "- H_0: различий в среднем количестве заказов между группами нет.\n",
    "- H_1: различия в среднем между группами есть.\n",
    "- alpha = 0.05 \n",
    "- метод: «U-критерий Манна-Уитни»"
   ]
  },
  {
   "cell_type": "markdown",
   "metadata": {},
   "source": [
    "<div class=\"alert alert-block alert-success\">\n",
    "        \n",
    "### Комментарий от ревьюера v_1\n",
    "    \n",
    "Здесь и далее гипотезы сформулированы верно 👍\n",
    "    \n",
    "Но можно еще указать метод, которым будешь их проверять и выбранный уровень значимости\n",
    "    \n",
    "</div>"
   ]
  },
  {
   "cell_type": "code",
   "execution_count": 23,
   "metadata": {},
   "outputs": [
    {
     "name": "stdout",
     "output_type": "stream",
     "text": [
      "0.017\n",
      "0.138\n"
     ]
    }
   ],
   "source": [
    "# Расчитаем количество посещений сайта в день для групп А и В.\n",
    "\n",
    "visitorsADaily = visitors[visitors['group'] == 'A'][['date', 'visitors']]\n",
    "visitorsADaily.columns = ['date', 'visitorsPerDateA']\n",
    "visitorsBDaily = visitors[visitors['group'] == 'B'][['date', 'visitors']]\n",
    "visitorsBDaily.columns = ['date', 'visitorsPerDateB']\n",
    "\n",
    "# Создадим список с количеством заказов для каждого из пользователей по группам\n",
    "# В них для пользователей, которые заказывали хотя бы 1 раз, укажем число совершённых заказов\n",
    "\n",
    "ordersByUsersA = (\n",
    "    orders[orders['group'] == 'A']\n",
    "    .groupby('visitor_id', as_index=False)\n",
    "    .agg({'transaction_id': pd.Series.nunique})\n",
    ")\n",
    "ordersByUsersA.columns = ['visitor_id', 'orders']\n",
    "# print(ordersByUsersA.head())\n",
    "ordersByUsersB = (\n",
    "    orders[orders['group'] == 'B']\n",
    "    .groupby('visitor_id', as_index=False)\n",
    "    .agg({'transaction_id': pd.Series.nunique})\n",
    ")\n",
    "ordersByUsersB.columns = ['visitor_id', 'orders']\n",
    "\n",
    "# создадим переменные sampleA и sampleB, в которых пользователям из разных групп будет соответствовать количество заказов. \n",
    "# Тем, кто ничего не заказал, будут соответствовать нули\n",
    "\n",
    "sampleA = pd.concat(\n",
    "    [\n",
    "        ordersByUsersA['orders'],\n",
    "        pd.Series(\n",
    "            0,\n",
    "            index=np.arange(\n",
    "                visitorsADaily['visitorsPerDateA'].sum() - len(ordersByUsersA['orders'])\n",
    "            ),\n",
    "            name='orders',\n",
    "        ),\n",
    "    ],\n",
    "    axis=0,\n",
    ")\n",
    "\n",
    "sampleB = pd.concat(\n",
    "    [\n",
    "        ordersByUsersB['orders'],\n",
    "        pd.Series(\n",
    "            0,\n",
    "            index=np.arange(\n",
    "                visitorsBDaily['visitorsPerDateB'].sum() - len(ordersByUsersB['orders'])\n",
    "            ),\n",
    "            name='orders',\n",
    "        ),\n",
    "    ],\n",
    "    axis=0,\n",
    ")\n",
    "# Применим метод: «U-критерий Манна-Уитни»\n",
    "print(\"{0:.3f}\".format(stats.mannwhitneyu(sampleA, sampleB)[1]))\n",
    "\n",
    "print(\"{0:.3f}\".format(sampleB.mean() / sampleA.mean() - 1))"
   ]
  },
  {
   "cell_type": "markdown",
   "metadata": {},
   "source": [
    "<div class=\"alert alert-block alert-warning\">\n",
    "\n",
    "### Комментарий от ревьюера v_1\n",
    "Рекомендация\n",
    "\n",
    "1. По-моему этот код избыточный (куммулятивные показатели), ты ведь не используешь эти данные в дальнейшей работе) \n",
    "    \n",
    "А количество посещений сайта для теста, можно рассчитать проще из таблицы visitors\n",
    "    \n",
    "2. Указывай, пожалуйста, что именно выводишь на экран. Такая привычка поможет тебе в будущем, когда придется возвращаться к старому коду))\n",
    "</div>"
   ]
  },
  {
   "cell_type": "markdown",
   "metadata": {},
   "source": [
    "<div class=\"alert alert-block alert-info\">\n",
    "\n",
    "Комментарий студента: Код поправила\n",
    "\n",
    "</div>"
   ]
  },
  {
   "cell_type": "markdown",
   "metadata": {},
   "source": [
    "<div class=\"alert alert-block alert-success\">\n",
    "\n",
    "    \n",
    "### Комментарий от ревьюера v_2\n",
    "\n",
    "👍🏻\n",
    "    \n",
    "</div>"
   ]
  },
  {
   "cell_type": "markdown",
   "metadata": {},
   "source": [
    "##### Вывод\n",
    "\n",
    "- P-value < 0.05 поэтому нулевую гипотезу отвергаем. Анализ 'сырых данных' показывает, что в среднем количестве заказов между группами есть статистически значимое отличие. Отвергаем Нулевую гипотезу - различия в среднем количестве заказов на посетителя между группами есть.\n",
    "- Относительный прирост среднего значения конверсии группы В к конверсии группы А равен 13.8 %"
   ]
  },
  {
   "cell_type": "markdown",
   "metadata": {},
   "source": [
    "<div class=\"alert alert-block alert-success\">\n",
    "        \n",
    "### Комментарий от ревьюера v_1\n",
    "    \n",
    "Верные расчеты и выводы\n",
    "\n",
    "</div>"
   ]
  },
  {
   "cell_type": "markdown",
   "metadata": {},
   "source": [
    "#### Посчитайте статистическую значимость различий в среднем чеке заказа между группами по «сырым» данным. Сделайте выводы и предположения."
   ]
  },
  {
   "cell_type": "markdown",
   "metadata": {},
   "source": [
    "Сформулируем гипотезы. \n",
    "- H_0: различий в среднем чеке заказов между группами нет.\n",
    "- H_1: различия в среднем чеке между группами есть.\n",
    "- alpha = 0.05 \n",
    "- метод: «U-критерий Манна-Уитни»"
   ]
  },
  {
   "cell_type": "code",
   "execution_count": 24,
   "metadata": {},
   "outputs": [
    {
     "name": "stdout",
     "output_type": "stream",
     "text": [
      "0.729\n",
      "0.259\n"
     ]
    }
   ],
   "source": [
    "print('{0:.3f}'.format(stats.mannwhitneyu(orders[orders['group']=='A']['revenue'], orders[orders['group']=='B']['revenue'])[1]))\n",
    "print('{0:.3f}'.format(orders[orders['group']=='B']['revenue'].mean()/orders[orders['group']=='A']['revenue'].mean()-1)) "
   ]
  },
  {
   "cell_type": "markdown",
   "metadata": {},
   "source": [
    "##### Вывод\n",
    "\n",
    "- P-value > 0.05 поэтому принимаем нулевую гипотезу. Анализ 'сырых данных' показывает, что в среднем чеке заказов между группами статистически значимого отличия нет.\n",
    "- Средний чек группы В выше среднего чека группы А на 26 %. Существенная относительная разница в 26 % при отсутствии статистической значимости P-value = 0.729  указывает на влияние выбросов на метрику. "
   ]
  },
  {
   "cell_type": "markdown",
   "metadata": {},
   "source": [
    "<div class=\"alert alert-block alert-warning\">\n",
    "        \n",
    "### Комментарий от ревьюера v_1\n",
    "    \n",
    "Существенная относительная разница при отсутствии статистической значимости указывает на влияние выбросов на метрику. На это следует обратить внимание в выводе\n",
    "\n",
    "</div>"
   ]
  },
  {
   "cell_type": "markdown",
   "metadata": {},
   "source": [
    "<div class=\"alert alert-block alert-info\">\n",
    "\n",
    "Комментарий студента: Поняла. Вывод поправила\n",
    "\n",
    "</div>"
   ]
  },
  {
   "cell_type": "markdown",
   "metadata": {},
   "source": [
    "<div class=\"alert alert-block alert-success\">\n",
    "\n",
    "    \n",
    "### Комментарий от ревьюера v_2\n",
    "\n",
    "👍🏻\n",
    "    \n",
    "</div>"
   ]
  },
  {
   "cell_type": "markdown",
   "metadata": {},
   "source": [
    "#### Посчитаем статистическую значимость различий в среднем количестве заказов на посетителя между группами по «очищенным» данным. Сделаем выводы и предположения."
   ]
  },
  {
   "cell_type": "markdown",
   "metadata": {},
   "source": [
    "Примем за аномальных пользователей тех, кто совершил 3 заказа и более, или совершил заказ на сумму свыше 28 000 рублей. Так мы уберём от 1% до 5% пользователей с наибольшим числом заказов, а также заказов с наибольшей стоимостью."
   ]
  },
  {
   "cell_type": "code",
   "execution_count": 25,
   "metadata": {},
   "outputs": [
    {
     "name": "stdout",
     "output_type": "stream",
     "text": [
      "1099    148427295\n",
      "18      199603092\n",
      "928     204675465\n",
      "23      237748145\n",
      "37      249864742\n",
      "Name: visitor_id, dtype: int64\n"
     ]
    }
   ],
   "source": [
    "usersWithManyOrders = pd.concat(\n",
    "    [\n",
    "        ordersByUsersA[ordersByUsersA['orders'] > 2]['visitor_id'],\n",
    "        ordersByUsersB[ordersByUsersB['orders'] > 2]['visitor_id'],\n",
    "    ],\n",
    "    axis=0,\n",
    ")\n",
    "usersWithExpensiveOrders = orders[orders['revenue'] > 28000]['visitor_id']\n",
    "abnormalUsers = (\n",
    "    pd.concat([usersWithManyOrders, usersWithExpensiveOrders], axis=0)\n",
    "    .drop_duplicates()\n",
    "    .sort_values()\n",
    ")\n",
    "print(abnormalUsers.head(5))\n"
   ]
  },
  {
   "cell_type": "markdown",
   "metadata": {},
   "source": [
    "<div class=\"alert alert-block alert-danger\">\n",
    "    \n",
    "\n",
    "### Комментарий от ревьюера v_1\n",
    "Критично\n",
    "\n",
    "10000 - совсем маленькая граница, она значительно ниже даже 95-го перцентиля\n",
    "</div>"
   ]
  },
  {
   "cell_type": "markdown",
   "metadata": {},
   "source": [
    "<div class=\"alert alert-block alert-info\">\n",
    "\n",
    "Комментарий студента: Исправила границы аномалий. Аномальными будем считать пользователей, которые совершили больше 2-х заказов, а также заказы дороже 28000\n",
    "\n",
    "</div>"
   ]
  },
  {
   "cell_type": "markdown",
   "metadata": {},
   "source": [
    "<div class=\"alert alert-block alert-warning\">\n",
    "\n",
    "### Комментарий от ревьюера v_2\n",
    "Рекомендация\n",
    "\n",
    "Аномальные пользователи найдены верно, но никогда не следует вводить руками значения, которые можно получить в результате кода. По двум причинам:\n",
    "    \n",
    "- когда-нибудь обязательно ошибешься, по-другому не бывает\n",
    "    \n",
    "- скрипт перестанет корректно работать на других входных данных\n",
    "    \n",
    "</div>"
   ]
  },
  {
   "cell_type": "code",
   "execution_count": 26,
   "metadata": {},
   "outputs": [
    {
     "name": "stdout",
     "output_type": "stream",
     "text": [
      "0.013\n",
      "0.173\n"
     ]
    }
   ],
   "source": [
    "sampleAFiltered = pd.concat(\n",
    "    [\n",
    "        ordersByUsersA[\n",
    "            np.logical_not(ordersByUsersA['visitor_id'].isin(abnormalUsers))\n",
    "        ]['orders'],\n",
    "        pd.Series(\n",
    "            0,\n",
    "            index=np.arange(\n",
    "                visitorsADaily['visitorsPerDateA'].sum() - len(ordersByUsersA['orders'])\n",
    "            ),\n",
    "            name='orders',\n",
    "        ),\n",
    "    ],\n",
    "    axis=0,\n",
    ")\n",
    "\n",
    "sampleBFiltered = pd.concat(\n",
    "    [\n",
    "        ordersByUsersB[\n",
    "            np.logical_not(ordersByUsersB['visitor_id'].isin(abnormalUsers))\n",
    "        ]['orders'],\n",
    "        pd.Series(\n",
    "            0,\n",
    "            index=np.arange(\n",
    "                visitorsBDaily['visitorsPerDateB'].sum() - len(ordersByUsersB['orders'])\n",
    "            ),\n",
    "            name='orders',\n",
    "        ),\n",
    "    ],\n",
    "    axis=0,\n",
    ") \n",
    "print('{0:.3f}'.format(stats.mannwhitneyu(sampleAFiltered, sampleBFiltered)[1]))\n",
    "print('{0:.3f}'.format(sampleBFiltered.mean()/sampleAFiltered.mean()-1)) "
   ]
  },
  {
   "cell_type": "markdown",
   "metadata": {},
   "source": [
    "##### Вывод\n",
    "\n",
    "- Сравним значения P-value и относительный прирост среднего значения количества заказов на посетителя для 'сырых' и 'очищенных' данных. \n",
    "  - P-value для 'очищенных' данных снизился до 0.013 по сравнению с 'сырыми' данными 0.017. Как и в случае с 'сырыми' данными статистическая значимость для 'очищенных' данных достигнута.  P-value < 0.05.\n",
    "  - прирост среднего значения количества заказов на посетителя для 'очищенных' данных увеличился до 0.173 по сравнению с 'сырыми' данными 0.138. Группа B демонстрирует более высокий прирост 17.3% по сравнению с группой А для 'очищенных' данных. Для 'сырых' данных данный показатель составлял 13.8 %. "
   ]
  },
  {
   "cell_type": "markdown",
   "metadata": {},
   "source": [
    "<div class=\"alert alert-block alert-success\">\n",
    "        \n",
    "### Комментарий от ревьюера v_1\n",
    "    \n",
    "Молодец, что сравниваешь с неочищенными данными\n",
    "</div>"
   ]
  },
  {
   "cell_type": "markdown",
   "metadata": {},
   "source": [
    "#### Посчитаем статистическую значимость различий в среднем чеке заказа между группами по «очищенным» данным. Сделаем выводы и предположения."
   ]
  },
  {
   "cell_type": "markdown",
   "metadata": {},
   "source": [
    "<div class=\"alert alert-block alert-info\">\n",
    "\n",
    "Комментарий студента: Вывод скорректировала\n",
    "\n",
    "</div>"
   ]
  },
  {
   "cell_type": "code",
   "execution_count": 27,
   "metadata": {},
   "outputs": [
    {
     "name": "stdout",
     "output_type": "stream",
     "text": [
      "0.738\n",
      "-0.020\n"
     ]
    }
   ],
   "source": [
    "print(\n",
    "    '{0:.3f}'.format(\n",
    "        stats.mannwhitneyu(\n",
    "            orders[\n",
    "                np.logical_and(\n",
    "                    orders['group'] == 'A',\n",
    "                    np.logical_not(orders['visitor_id'].isin(abnormalUsers)),\n",
    "                )\n",
    "            ]['revenue'],\n",
    "            orders[\n",
    "                np.logical_and(\n",
    "                    orders['group'] == 'B',\n",
    "                    np.logical_not(orders['visitor_id'].isin(abnormalUsers)),\n",
    "                )\n",
    "            ]['revenue'],\n",
    "        )[1]\n",
    "    )\n",
    ")\n",
    "\n",
    "print(\n",
    "    \"{0:.3f}\".format(\n",
    "        orders[\n",
    "            np.logical_and(\n",
    "                orders['group'] == 'B',\n",
    "                np.logical_not(orders['visitor_id'].isin(abnormalUsers)),\n",
    "            )\n",
    "        ]['revenue'].mean()\n",
    "        / orders[\n",
    "            np.logical_and(\n",
    "                orders['group'] == 'A',\n",
    "                np.logical_not(orders['visitor_id'].isin(abnormalUsers)),\n",
    "            )\n",
    "        ]['revenue'].mean()\n",
    "        - 1\n",
    "    )\n",
    ") "
   ]
  },
  {
   "cell_type": "markdown",
   "metadata": {},
   "source": [
    "##### Вывод\n",
    "\n",
    "- Сравним статистическую значимость различий в среднем чеке  и относительный прирост среднего чека для 'сырых' и 'очищенных' данных. \n",
    "  - P-value для 'очищенных' данных увеличился до 0.738 по сравнению с 'сырыми' данными 0.729. P-value так и остался существенно выше статистического уровня 0.05, то есть в среднем чеке заказов между группами статистически значимого отличия нет даже после очистки.\n",
    "  \n",
    "  - относительный прирост среднего чека для 'очищенных' данных снизился до -0.02. Это означает, что средний чек группы В стал ниже среднего чека группы А на 2 %.   \n",
    "  "
   ]
  },
  {
   "cell_type": "markdown",
   "metadata": {},
   "source": [
    "<div class=\"alert alert-block alert-info\">\n",
    "\n",
    "Комментарий студента: Вывод скорректировала\n",
    "\n",
    "</div>"
   ]
  },
  {
   "cell_type": "markdown",
   "metadata": {},
   "source": [
    "<div class=\"alert alert-block alert-success\">\n",
    "        \n",
    "### Комментарий от ревьюера v_1\n",
    "    \n",
    "Вот почему так важно избавиться от выбросов))\n",
    "\n",
    "</div>"
   ]
  },
  {
   "cell_type": "markdown",
   "metadata": {},
   "source": [
    "#### Вывод\n",
    "\n",
    "- Была проведена приоритизация 9 гипотез по увеличению выручки интернет-магазина. \n",
    "  - Методом ICE были выявлены следующие приоритетные гипотезы:\n",
    "     - Запустить акцию, дающую скидку на товар в день...\n",
    "     - Добавить два новых канала привлечения трафика\n",
    "  - Методом RICE были выявлены следующие приоритетные гипотезы:\n",
    "     - Добавить форму подписки на все основные страни...\n",
    "     - Добавить блоки рекомендаций товаров на сайт ин...\n",
    "\n",
    "\n",
    "- Был проведен A/B-тест и проанализированы полученные результаты.\n",
    "\n",
    "  - Выявлено статистически значимое различие по среднему количеству заказов между группами А и В по 'сырым' и по 'очищенным' данным после фильтрации аномалий; Покупатели группы B демонстрирует более высокий прирост среднего количества заказов 17.3% по сравнению с группой А.\n",
    "  - Относительный прирост среднего чека для 'очищенных' данных снизился до -0.02. Это означает, что средний чек группы В стал ниже среднего чека группы А на 2 %. На данную метрику не стоит ориентироваться при отсутствии статистической значимости P-value \n",
    "  - График различия по среднему количеству заказов между группами показывает, что результаты группы B превысили результаты группы A и стабильно удерживаются до конца проведения теста. \n",
    " \n",
    "**Принимаем решение: остановить тест, зафиксировать победу группы В на основании значительного прироста среднего количества заказов в группе В по сравнению с группой А.**\n"
   ]
  },
  {
   "cell_type": "markdown",
   "metadata": {},
   "source": [
    "<div class=\"alert alert-block alert-success\">\n",
    "        \n",
    "### Комментарий от ревьюера v_1\n",
    "    \n",
    "Все верно, с ростом числа заказов  будет расти и выручка (при том же среднем чеке)\n",
    "\n",
    "</div>"
   ]
  },
  {
   "cell_type": "markdown",
   "metadata": {},
   "source": [
    "<div class=\"alert alert-block alert-info\">\n",
    "\n",
    "Комментарий студента: Вывод скорректировала. \n",
    "\n",
    "</div>"
   ]
  },
  {
   "cell_type": "markdown",
   "metadata": {},
   "source": [
    "<div class=\"alert alert-block alert-success\">\n",
    "\n",
    "    \n",
    "### Комментарий от ревьюера v_2\n",
    "\n",
    "👍🏻\n",
    "    \n",
    "</div>"
   ]
  },
  {
   "cell_type": "code",
   "execution_count": null,
   "metadata": {},
   "outputs": [],
   "source": []
  }
 ],
 "metadata": {
  "ExecuteTimeLog": [
   {
    "duration": 456,
    "start_time": "2022-12-14T11:05:14.909Z"
   },
   {
    "duration": 31,
    "start_time": "2022-12-14T11:13:36.666Z"
   },
   {
    "duration": 9,
    "start_time": "2022-12-14T11:13:56.064Z"
   },
   {
    "duration": 8,
    "start_time": "2022-12-14T11:23:29.750Z"
   },
   {
    "duration": 110,
    "start_time": "2022-12-14T13:44:29.720Z"
   },
   {
    "duration": 390,
    "start_time": "2022-12-14T13:44:52.425Z"
   },
   {
    "duration": 122,
    "start_time": "2022-12-14T13:46:45.973Z"
   },
   {
    "duration": 347,
    "start_time": "2022-12-14T13:54:18.917Z"
   },
   {
    "duration": 380,
    "start_time": "2022-12-14T13:55:03.065Z"
   },
   {
    "duration": 77,
    "start_time": "2022-12-14T13:55:34.976Z"
   },
   {
    "duration": 63,
    "start_time": "2022-12-14T13:55:46.108Z"
   },
   {
    "duration": 372,
    "start_time": "2022-12-14T13:57:01.983Z"
   },
   {
    "duration": 77,
    "start_time": "2022-12-14T13:57:15.798Z"
   },
   {
    "duration": 88,
    "start_time": "2022-12-14T14:00:06.767Z"
   },
   {
    "duration": 92,
    "start_time": "2022-12-14T14:02:40.699Z"
   },
   {
    "duration": 91,
    "start_time": "2022-12-14T14:03:09.670Z"
   },
   {
    "duration": 252,
    "start_time": "2022-12-14T14:16:38.607Z"
   },
   {
    "duration": 3,
    "start_time": "2022-12-14T14:22:04.932Z"
   },
   {
    "duration": 2,
    "start_time": "2022-12-14T14:22:08.427Z"
   },
   {
    "duration": 11,
    "start_time": "2022-12-14T14:24:17.864Z"
   },
   {
    "duration": 391,
    "start_time": "2022-12-14T14:24:38.425Z"
   },
   {
    "duration": 10,
    "start_time": "2022-12-14T14:24:38.818Z"
   },
   {
    "duration": 13,
    "start_time": "2022-12-14T14:24:38.829Z"
   },
   {
    "duration": 391,
    "start_time": "2022-12-14T14:24:38.843Z"
   },
   {
    "duration": 81,
    "start_time": "2022-12-14T14:24:39.236Z"
   },
   {
    "duration": 262,
    "start_time": "2022-12-14T14:24:39.318Z"
   },
   {
    "duration": 237,
    "start_time": "2022-12-14T14:24:39.581Z"
   },
   {
    "duration": 215,
    "start_time": "2022-12-14T14:35:18.468Z"
   },
   {
    "duration": 206,
    "start_time": "2022-12-14T14:36:46.369Z"
   },
   {
    "duration": 160,
    "start_time": "2022-12-14T14:38:02.356Z"
   },
   {
    "duration": 334,
    "start_time": "2022-12-14T15:26:16.255Z"
   },
   {
    "duration": 1094,
    "start_time": "2022-12-14T15:56:18.675Z"
   },
   {
    "duration": 33,
    "start_time": "2022-12-14T15:56:19.771Z"
   },
   {
    "duration": 10,
    "start_time": "2022-12-14T15:56:19.807Z"
   },
   {
    "duration": 8,
    "start_time": "2022-12-14T15:56:19.818Z"
   },
   {
    "duration": 12,
    "start_time": "2022-12-14T15:56:19.828Z"
   },
   {
    "duration": 84,
    "start_time": "2022-12-14T15:56:19.842Z"
   },
   {
    "duration": 304,
    "start_time": "2022-12-14T15:56:19.928Z"
   },
   {
    "duration": 288,
    "start_time": "2022-12-14T15:56:20.234Z"
   },
   {
    "duration": 187,
    "start_time": "2022-12-14T15:56:20.523Z"
   },
   {
    "duration": 252,
    "start_time": "2022-12-14T15:56:20.712Z"
   },
   {
    "duration": 174,
    "start_time": "2022-12-14T16:15:13.192Z"
   },
   {
    "duration": 1041,
    "start_time": "2022-12-14T16:42:48.778Z"
   },
   {
    "duration": 33,
    "start_time": "2022-12-14T16:42:49.821Z"
   },
   {
    "duration": 10,
    "start_time": "2022-12-14T16:42:49.856Z"
   },
   {
    "duration": 9,
    "start_time": "2022-12-14T16:42:49.869Z"
   },
   {
    "duration": 89,
    "start_time": "2022-12-14T16:42:49.879Z"
   },
   {
    "duration": 277,
    "start_time": "2022-12-14T16:42:49.970Z"
   },
   {
    "duration": 287,
    "start_time": "2022-12-14T16:42:50.249Z"
   },
   {
    "duration": 191,
    "start_time": "2022-12-14T16:42:50.538Z"
   },
   {
    "duration": 275,
    "start_time": "2022-12-14T16:42:50.731Z"
   },
   {
    "duration": 272,
    "start_time": "2022-12-14T16:42:51.008Z"
   },
   {
    "duration": 179,
    "start_time": "2022-12-14T16:43:11.149Z"
   },
   {
    "duration": 185,
    "start_time": "2022-12-14T16:58:26.637Z"
   },
   {
    "duration": 298,
    "start_time": "2022-12-14T16:58:35.064Z"
   },
   {
    "duration": 271,
    "start_time": "2022-12-14T17:02:06.135Z"
   },
   {
    "duration": 338,
    "start_time": "2022-12-14T17:02:56.148Z"
   },
   {
    "duration": 272,
    "start_time": "2022-12-14T17:05:36.013Z"
   },
   {
    "duration": 299,
    "start_time": "2022-12-14T17:07:56.359Z"
   },
   {
    "duration": 236,
    "start_time": "2022-12-14T17:08:46.627Z"
   },
   {
    "duration": 14,
    "start_time": "2022-12-14T17:19:34.095Z"
   },
   {
    "duration": 12,
    "start_time": "2022-12-14T17:19:57.210Z"
   },
   {
    "duration": 13,
    "start_time": "2022-12-14T17:28:00.920Z"
   },
   {
    "duration": 13,
    "start_time": "2022-12-14T17:31:29.326Z"
   },
   {
    "duration": 13,
    "start_time": "2022-12-14T17:31:43.573Z"
   },
   {
    "duration": 112,
    "start_time": "2022-12-14T17:36:22.340Z"
   },
   {
    "duration": 4,
    "start_time": "2022-12-14T17:45:03.306Z"
   },
   {
    "duration": 1098,
    "start_time": "2022-12-14T18:48:04.894Z"
   },
   {
    "duration": 1086,
    "start_time": "2022-12-14T18:52:09.319Z"
   },
   {
    "duration": 1140,
    "start_time": "2022-12-14T18:53:06.841Z"
   },
   {
    "duration": 143,
    "start_time": "2022-12-14T18:53:29.870Z"
   },
   {
    "duration": 115,
    "start_time": "2022-12-14T18:53:42.415Z"
   },
   {
    "duration": 9,
    "start_time": "2022-12-14T18:58:47.150Z"
   },
   {
    "duration": 5,
    "start_time": "2022-12-14T18:58:58.842Z"
   },
   {
    "duration": 99,
    "start_time": "2022-12-14T19:13:40.906Z"
   },
   {
    "duration": 104,
    "start_time": "2022-12-14T19:15:42.614Z"
   },
   {
    "duration": 973,
    "start_time": "2022-12-14T19:21:45.731Z"
   },
   {
    "duration": 32,
    "start_time": "2022-12-14T19:21:46.706Z"
   },
   {
    "duration": 9,
    "start_time": "2022-12-14T19:21:46.740Z"
   },
   {
    "duration": 8,
    "start_time": "2022-12-14T19:21:46.751Z"
   },
   {
    "duration": 77,
    "start_time": "2022-12-14T19:21:46.761Z"
   },
   {
    "duration": 261,
    "start_time": "2022-12-14T19:21:46.840Z"
   },
   {
    "duration": 239,
    "start_time": "2022-12-14T19:21:47.102Z"
   },
   {
    "duration": 168,
    "start_time": "2022-12-14T19:21:47.343Z"
   },
   {
    "duration": 242,
    "start_time": "2022-12-14T19:21:47.512Z"
   },
   {
    "duration": 199,
    "start_time": "2022-12-14T19:21:47.756Z"
   },
   {
    "duration": 306,
    "start_time": "2022-12-14T19:21:47.956Z"
   },
   {
    "duration": 115,
    "start_time": "2022-12-14T19:21:48.264Z"
   },
   {
    "duration": 4,
    "start_time": "2022-12-14T19:21:48.381Z"
   },
   {
    "duration": 140,
    "start_time": "2022-12-14T19:21:48.386Z"
   },
   {
    "duration": 4,
    "start_time": "2022-12-14T19:21:48.528Z"
   },
   {
    "duration": 328,
    "start_time": "2022-12-14T19:21:48.533Z"
   },
   {
    "duration": 337,
    "start_time": "2022-12-14T19:25:00.662Z"
   },
   {
    "duration": 383,
    "start_time": "2022-12-14T19:34:47.210Z"
   },
   {
    "duration": 1124,
    "start_time": "2022-12-14T19:40:00.996Z"
   },
   {
    "duration": 34,
    "start_time": "2022-12-14T19:40:02.122Z"
   },
   {
    "duration": 16,
    "start_time": "2022-12-14T19:40:02.157Z"
   },
   {
    "duration": 8,
    "start_time": "2022-12-14T19:40:02.175Z"
   },
   {
    "duration": 94,
    "start_time": "2022-12-14T19:40:02.185Z"
   },
   {
    "duration": 284,
    "start_time": "2022-12-14T19:40:02.281Z"
   },
   {
    "duration": 269,
    "start_time": "2022-12-14T19:40:02.566Z"
   },
   {
    "duration": 226,
    "start_time": "2022-12-14T19:40:02.838Z"
   },
   {
    "duration": 317,
    "start_time": "2022-12-14T19:40:03.066Z"
   },
   {
    "duration": 209,
    "start_time": "2022-12-14T19:40:03.386Z"
   },
   {
    "duration": 308,
    "start_time": "2022-12-14T19:40:03.596Z"
   },
   {
    "duration": 147,
    "start_time": "2022-12-14T19:40:03.906Z"
   },
   {
    "duration": 4,
    "start_time": "2022-12-14T19:40:04.055Z"
   },
   {
    "duration": 137,
    "start_time": "2022-12-14T19:40:04.061Z"
   },
   {
    "duration": 5,
    "start_time": "2022-12-14T19:40:04.200Z"
   },
   {
    "duration": 358,
    "start_time": "2022-12-14T19:40:04.208Z"
   },
   {
    "duration": 18,
    "start_time": "2022-12-14T19:40:04.568Z"
   },
   {
    "duration": 1278,
    "start_time": "2022-12-14T19:59:49.633Z"
   },
   {
    "duration": 1108,
    "start_time": "2022-12-14T20:01:03.737Z"
   },
   {
    "duration": 1064,
    "start_time": "2022-12-14T20:01:28.655Z"
   },
   {
    "duration": 1065,
    "start_time": "2022-12-14T20:02:40.459Z"
   },
   {
    "duration": 32,
    "start_time": "2022-12-14T20:02:41.526Z"
   },
   {
    "duration": 8,
    "start_time": "2022-12-14T20:02:41.560Z"
   },
   {
    "duration": 32,
    "start_time": "2022-12-14T20:02:41.569Z"
   },
   {
    "duration": 101,
    "start_time": "2022-12-14T20:02:41.603Z"
   },
   {
    "duration": 258,
    "start_time": "2022-12-14T20:02:41.706Z"
   },
   {
    "duration": 252,
    "start_time": "2022-12-14T20:02:41.966Z"
   },
   {
    "duration": 178,
    "start_time": "2022-12-14T20:02:42.220Z"
   },
   {
    "duration": 255,
    "start_time": "2022-12-14T20:02:42.400Z"
   },
   {
    "duration": 204,
    "start_time": "2022-12-14T20:02:42.657Z"
   },
   {
    "duration": 322,
    "start_time": "2022-12-14T20:02:42.862Z"
   },
   {
    "duration": 114,
    "start_time": "2022-12-14T20:02:43.186Z"
   },
   {
    "duration": 4,
    "start_time": "2022-12-14T20:02:43.301Z"
   },
   {
    "duration": 124,
    "start_time": "2022-12-14T20:02:43.307Z"
   },
   {
    "duration": 3,
    "start_time": "2022-12-14T20:02:43.433Z"
   },
   {
    "duration": 329,
    "start_time": "2022-12-14T20:02:43.437Z"
   },
   {
    "duration": 13,
    "start_time": "2022-12-14T20:02:43.768Z"
   },
   {
    "duration": 1206,
    "start_time": "2022-12-14T20:02:43.783Z"
   },
   {
    "duration": 1154,
    "start_time": "2022-12-14T20:09:53.250Z"
   },
   {
    "duration": 328,
    "start_time": "2022-12-14T20:11:54.250Z"
   },
   {
    "duration": 1135,
    "start_time": "2022-12-14T20:13:35.144Z"
   },
   {
    "duration": 1142,
    "start_time": "2022-12-14T20:15:42.102Z"
   },
   {
    "duration": 1243,
    "start_time": "2022-12-14T20:17:11.305Z"
   },
   {
    "duration": 1247,
    "start_time": "2022-12-14T20:19:41.919Z"
   },
   {
    "duration": 1323,
    "start_time": "2022-12-14T20:20:24.436Z"
   },
   {
    "duration": 129,
    "start_time": "2022-12-14T20:21:07.871Z"
   },
   {
    "duration": 983,
    "start_time": "2022-12-14T20:22:50.831Z"
   },
   {
    "duration": 34,
    "start_time": "2022-12-14T20:22:51.816Z"
   },
   {
    "duration": 8,
    "start_time": "2022-12-14T20:22:51.851Z"
   },
   {
    "duration": 11,
    "start_time": "2022-12-14T20:22:51.861Z"
   },
   {
    "duration": 78,
    "start_time": "2022-12-14T20:22:51.873Z"
   },
   {
    "duration": 250,
    "start_time": "2022-12-14T20:22:51.953Z"
   },
   {
    "duration": 238,
    "start_time": "2022-12-14T20:22:52.204Z"
   },
   {
    "duration": 160,
    "start_time": "2022-12-14T20:22:52.444Z"
   },
   {
    "duration": 285,
    "start_time": "2022-12-14T20:22:52.606Z"
   },
   {
    "duration": 197,
    "start_time": "2022-12-14T20:22:52.894Z"
   },
   {
    "duration": 293,
    "start_time": "2022-12-14T20:22:53.093Z"
   },
   {
    "duration": 115,
    "start_time": "2022-12-14T20:22:53.387Z"
   },
   {
    "duration": 4,
    "start_time": "2022-12-14T20:22:53.503Z"
   },
   {
    "duration": 131,
    "start_time": "2022-12-14T20:22:53.508Z"
   },
   {
    "duration": 14,
    "start_time": "2022-12-14T20:22:53.641Z"
   },
   {
    "duration": 371,
    "start_time": "2022-12-14T20:22:53.657Z"
   },
   {
    "duration": 11,
    "start_time": "2022-12-14T20:22:54.030Z"
   },
   {
    "duration": 141,
    "start_time": "2022-12-14T20:22:54.042Z"
   },
   {
    "duration": 8,
    "start_time": "2022-12-14T20:24:50.363Z"
   },
   {
    "duration": 25,
    "start_time": "2022-12-14T20:25:12.446Z"
   },
   {
    "duration": 12,
    "start_time": "2022-12-14T20:26:25.206Z"
   },
   {
    "duration": 47,
    "start_time": "2022-12-15T08:19:51.063Z"
   },
   {
    "duration": 1242,
    "start_time": "2022-12-15T08:21:07.801Z"
   },
   {
    "duration": 76,
    "start_time": "2022-12-15T08:21:09.045Z"
   },
   {
    "duration": 7,
    "start_time": "2022-12-15T08:21:09.123Z"
   },
   {
    "duration": 7,
    "start_time": "2022-12-15T08:21:09.132Z"
   },
   {
    "duration": 179,
    "start_time": "2022-12-15T08:21:09.140Z"
   },
   {
    "duration": 243,
    "start_time": "2022-12-15T08:21:09.321Z"
   },
   {
    "duration": 241,
    "start_time": "2022-12-15T08:21:09.565Z"
   },
   {
    "duration": 163,
    "start_time": "2022-12-15T08:21:09.808Z"
   },
   {
    "duration": 346,
    "start_time": "2022-12-15T08:21:09.972Z"
   },
   {
    "duration": 187,
    "start_time": "2022-12-15T08:21:10.320Z"
   },
   {
    "duration": 288,
    "start_time": "2022-12-15T08:21:10.509Z"
   },
   {
    "duration": 108,
    "start_time": "2022-12-15T08:21:10.799Z"
   },
   {
    "duration": 4,
    "start_time": "2022-12-15T08:21:10.909Z"
   },
   {
    "duration": 133,
    "start_time": "2022-12-15T08:21:10.914Z"
   },
   {
    "duration": 5,
    "start_time": "2022-12-15T08:21:11.049Z"
   },
   {
    "duration": 334,
    "start_time": "2022-12-15T08:21:11.055Z"
   },
   {
    "duration": 9,
    "start_time": "2022-12-15T08:21:11.396Z"
   },
   {
    "duration": 218,
    "start_time": "2022-12-15T08:21:11.406Z"
   },
   {
    "duration": 0,
    "start_time": "2022-12-15T08:21:11.626Z"
   },
   {
    "duration": 0,
    "start_time": "2022-12-15T08:21:11.627Z"
   },
   {
    "duration": 168,
    "start_time": "2022-12-15T08:21:54.492Z"
   },
   {
    "duration": 30,
    "start_time": "2022-12-15T08:22:02.771Z"
   },
   {
    "duration": 15,
    "start_time": "2022-12-15T08:22:05.923Z"
   },
   {
    "duration": 1218,
    "start_time": "2022-12-15T10:00:07.420Z"
   },
   {
    "duration": 78,
    "start_time": "2022-12-15T10:00:08.640Z"
   },
   {
    "duration": 9,
    "start_time": "2022-12-15T10:00:08.719Z"
   },
   {
    "duration": 20,
    "start_time": "2022-12-15T10:00:08.730Z"
   },
   {
    "duration": 202,
    "start_time": "2022-12-15T10:00:08.752Z"
   },
   {
    "duration": 280,
    "start_time": "2022-12-15T10:00:08.956Z"
   },
   {
    "duration": 262,
    "start_time": "2022-12-15T10:00:09.238Z"
   },
   {
    "duration": 184,
    "start_time": "2022-12-15T10:00:09.502Z"
   },
   {
    "duration": 327,
    "start_time": "2022-12-15T10:00:09.688Z"
   },
   {
    "duration": 211,
    "start_time": "2022-12-15T10:00:10.017Z"
   },
   {
    "duration": 270,
    "start_time": "2022-12-15T10:00:10.229Z"
   },
   {
    "duration": 123,
    "start_time": "2022-12-15T10:00:10.501Z"
   },
   {
    "duration": 5,
    "start_time": "2022-12-15T10:00:10.626Z"
   },
   {
    "duration": 139,
    "start_time": "2022-12-15T10:00:10.634Z"
   },
   {
    "duration": 4,
    "start_time": "2022-12-15T10:00:10.774Z"
   },
   {
    "duration": 434,
    "start_time": "2022-12-15T10:00:10.779Z"
   },
   {
    "duration": 9,
    "start_time": "2022-12-15T10:00:11.214Z"
   },
   {
    "duration": 143,
    "start_time": "2022-12-15T10:00:11.225Z"
   },
   {
    "duration": 34,
    "start_time": "2022-12-15T10:00:11.369Z"
   },
   {
    "duration": 12,
    "start_time": "2022-12-15T10:00:11.405Z"
   },
   {
    "duration": 1073,
    "start_time": "2022-12-15T10:29:14.679Z"
   },
   {
    "duration": 32,
    "start_time": "2022-12-15T10:29:15.753Z"
   },
   {
    "duration": 8,
    "start_time": "2022-12-15T10:29:15.786Z"
   },
   {
    "duration": 17,
    "start_time": "2022-12-15T10:29:15.796Z"
   },
   {
    "duration": 94,
    "start_time": "2022-12-15T10:29:15.814Z"
   },
   {
    "duration": 261,
    "start_time": "2022-12-15T10:29:15.910Z"
   },
   {
    "duration": 254,
    "start_time": "2022-12-15T10:29:16.172Z"
   },
   {
    "duration": 169,
    "start_time": "2022-12-15T10:29:16.428Z"
   },
   {
    "duration": 280,
    "start_time": "2022-12-15T10:29:16.598Z"
   },
   {
    "duration": 194,
    "start_time": "2022-12-15T10:29:16.881Z"
   },
   {
    "duration": 330,
    "start_time": "2022-12-15T10:29:17.076Z"
   },
   {
    "duration": 133,
    "start_time": "2022-12-15T10:29:17.408Z"
   },
   {
    "duration": 5,
    "start_time": "2022-12-15T10:29:17.542Z"
   },
   {
    "duration": 134,
    "start_time": "2022-12-15T10:29:17.549Z"
   },
   {
    "duration": 3,
    "start_time": "2022-12-15T10:29:17.685Z"
   },
   {
    "duration": 330,
    "start_time": "2022-12-15T10:29:17.698Z"
   },
   {
    "duration": 9,
    "start_time": "2022-12-15T10:29:18.030Z"
   },
   {
    "duration": 134,
    "start_time": "2022-12-15T10:29:18.041Z"
   },
   {
    "duration": 35,
    "start_time": "2022-12-15T10:29:18.176Z"
   },
   {
    "duration": 13,
    "start_time": "2022-12-15T10:29:18.213Z"
   },
   {
    "duration": 147,
    "start_time": "2022-12-15T10:46:11.851Z"
   },
   {
    "duration": 1120,
    "start_time": "2022-12-15T10:46:42.119Z"
   },
   {
    "duration": 31,
    "start_time": "2022-12-15T10:46:43.241Z"
   },
   {
    "duration": 8,
    "start_time": "2022-12-15T10:46:43.274Z"
   },
   {
    "duration": 7,
    "start_time": "2022-12-15T10:46:43.283Z"
   },
   {
    "duration": 82,
    "start_time": "2022-12-15T10:46:43.292Z"
   },
   {
    "duration": 278,
    "start_time": "2022-12-15T10:46:43.375Z"
   },
   {
    "duration": 261,
    "start_time": "2022-12-15T10:46:43.654Z"
   },
   {
    "duration": 180,
    "start_time": "2022-12-15T10:46:43.917Z"
   },
   {
    "duration": 285,
    "start_time": "2022-12-15T10:46:44.099Z"
   },
   {
    "duration": 203,
    "start_time": "2022-12-15T10:46:44.385Z"
   },
   {
    "duration": 353,
    "start_time": "2022-12-15T10:46:44.597Z"
   },
   {
    "duration": 136,
    "start_time": "2022-12-15T10:46:44.952Z"
   },
   {
    "duration": 9,
    "start_time": "2022-12-15T10:46:45.089Z"
   },
   {
    "duration": 139,
    "start_time": "2022-12-15T10:46:45.101Z"
   },
   {
    "duration": 3,
    "start_time": "2022-12-15T10:46:45.242Z"
   },
   {
    "duration": 338,
    "start_time": "2022-12-15T10:46:45.247Z"
   },
   {
    "duration": 18,
    "start_time": "2022-12-15T10:46:45.586Z"
   },
   {
    "duration": 158,
    "start_time": "2022-12-15T10:46:45.606Z"
   },
   {
    "duration": 32,
    "start_time": "2022-12-15T10:46:45.766Z"
   },
   {
    "duration": 11,
    "start_time": "2022-12-15T10:46:45.799Z"
   },
   {
    "duration": 1268,
    "start_time": "2022-12-15T12:28:11.957Z"
   },
   {
    "duration": 107,
    "start_time": "2022-12-15T12:28:13.227Z"
   },
   {
    "duration": 11,
    "start_time": "2022-12-15T12:28:13.336Z"
   },
   {
    "duration": 14,
    "start_time": "2022-12-15T12:28:13.349Z"
   },
   {
    "duration": 183,
    "start_time": "2022-12-15T12:28:13.365Z"
   },
   {
    "duration": 266,
    "start_time": "2022-12-15T12:28:13.550Z"
   },
   {
    "duration": 359,
    "start_time": "2022-12-15T12:28:13.817Z"
   },
   {
    "duration": 191,
    "start_time": "2022-12-15T12:28:14.178Z"
   },
   {
    "duration": 337,
    "start_time": "2022-12-15T12:28:14.370Z"
   },
   {
    "duration": 190,
    "start_time": "2022-12-15T12:28:14.709Z"
   },
   {
    "duration": 308,
    "start_time": "2022-12-15T12:28:14.900Z"
   },
   {
    "duration": 126,
    "start_time": "2022-12-15T12:28:15.210Z"
   },
   {
    "duration": 4,
    "start_time": "2022-12-15T12:28:15.337Z"
   },
   {
    "duration": 155,
    "start_time": "2022-12-15T12:28:15.343Z"
   },
   {
    "duration": 4,
    "start_time": "2022-12-15T12:28:15.499Z"
   },
   {
    "duration": 374,
    "start_time": "2022-12-15T12:28:15.505Z"
   },
   {
    "duration": 9,
    "start_time": "2022-12-15T12:28:15.880Z"
   },
   {
    "duration": 135,
    "start_time": "2022-12-15T12:28:15.890Z"
   },
   {
    "duration": 25,
    "start_time": "2022-12-15T12:28:16.027Z"
   },
   {
    "duration": 11,
    "start_time": "2022-12-15T12:28:16.053Z"
   },
   {
    "duration": 52,
    "start_time": "2022-12-15T13:51:49.360Z"
   },
   {
    "duration": 1228,
    "start_time": "2022-12-15T13:51:59.898Z"
   },
   {
    "duration": 80,
    "start_time": "2022-12-15T13:52:01.128Z"
   },
   {
    "duration": 10,
    "start_time": "2022-12-15T13:52:01.210Z"
   },
   {
    "duration": 18,
    "start_time": "2022-12-15T13:52:01.222Z"
   },
   {
    "duration": 268,
    "start_time": "2022-12-15T13:52:01.241Z"
   },
   {
    "duration": 270,
    "start_time": "2022-12-15T13:52:01.510Z"
   },
   {
    "duration": 267,
    "start_time": "2022-12-15T13:52:01.782Z"
   },
   {
    "duration": 187,
    "start_time": "2022-12-15T13:52:02.054Z"
   },
   {
    "duration": 365,
    "start_time": "2022-12-15T13:52:02.243Z"
   },
   {
    "duration": 216,
    "start_time": "2022-12-15T13:52:02.610Z"
   },
   {
    "duration": 355,
    "start_time": "2022-12-15T13:52:02.828Z"
   },
   {
    "duration": 147,
    "start_time": "2022-12-15T13:52:03.185Z"
   },
   {
    "duration": 4,
    "start_time": "2022-12-15T13:52:03.334Z"
   },
   {
    "duration": 155,
    "start_time": "2022-12-15T13:52:03.340Z"
   },
   {
    "duration": 4,
    "start_time": "2022-12-15T13:52:03.497Z"
   },
   {
    "duration": 395,
    "start_time": "2022-12-15T13:52:03.502Z"
   },
   {
    "duration": 11,
    "start_time": "2022-12-15T13:52:03.899Z"
   },
   {
    "duration": 144,
    "start_time": "2022-12-15T13:52:03.911Z"
   },
   {
    "duration": 27,
    "start_time": "2022-12-15T13:52:04.056Z"
   },
   {
    "duration": 14,
    "start_time": "2022-12-15T13:52:04.085Z"
   },
   {
    "duration": 1153,
    "start_time": "2022-12-15T14:03:12.857Z"
   },
   {
    "duration": 37,
    "start_time": "2022-12-15T14:03:14.012Z"
   },
   {
    "duration": 9,
    "start_time": "2022-12-15T14:03:14.051Z"
   },
   {
    "duration": 8,
    "start_time": "2022-12-15T14:03:14.063Z"
   },
   {
    "duration": 74,
    "start_time": "2022-12-15T14:03:14.072Z"
   },
   {
    "duration": 16,
    "start_time": "2022-12-15T14:03:14.148Z"
   },
   {
    "duration": 277,
    "start_time": "2022-12-15T14:03:14.166Z"
   },
   {
    "duration": 290,
    "start_time": "2022-12-15T14:03:14.444Z"
   },
   {
    "duration": 241,
    "start_time": "2022-12-15T14:03:14.736Z"
   },
   {
    "duration": 290,
    "start_time": "2022-12-15T14:03:14.981Z"
   },
   {
    "duration": 226,
    "start_time": "2022-12-15T14:03:15.272Z"
   },
   {
    "duration": 312,
    "start_time": "2022-12-15T14:03:15.499Z"
   },
   {
    "duration": 125,
    "start_time": "2022-12-15T14:03:15.812Z"
   },
   {
    "duration": 4,
    "start_time": "2022-12-15T14:03:15.939Z"
   },
   {
    "duration": 142,
    "start_time": "2022-12-15T14:03:15.955Z"
   },
   {
    "duration": 5,
    "start_time": "2022-12-15T14:03:16.098Z"
   },
   {
    "duration": 369,
    "start_time": "2022-12-15T14:03:16.105Z"
   },
   {
    "duration": 10,
    "start_time": "2022-12-15T14:03:16.476Z"
   },
   {
    "duration": 147,
    "start_time": "2022-12-15T14:03:16.488Z"
   },
   {
    "duration": 38,
    "start_time": "2022-12-15T14:03:16.637Z"
   },
   {
    "duration": 20,
    "start_time": "2022-12-15T14:03:16.677Z"
   },
   {
    "duration": 202,
    "start_time": "2022-12-15T14:11:47.350Z"
   },
   {
    "duration": 7,
    "start_time": "2022-12-15T14:15:23.224Z"
   },
   {
    "duration": 81,
    "start_time": "2022-12-15T14:15:36.809Z"
   },
   {
    "duration": 6,
    "start_time": "2022-12-15T14:15:41.486Z"
   },
   {
    "duration": 56,
    "start_time": "2022-12-15T14:23:20.792Z"
   },
   {
    "duration": 1051,
    "start_time": "2022-12-15T14:27:43.725Z"
   },
   {
    "duration": 1242,
    "start_time": "2022-12-15T14:28:09.630Z"
   },
   {
    "duration": 34,
    "start_time": "2022-12-15T14:28:10.874Z"
   },
   {
    "duration": 10,
    "start_time": "2022-12-15T14:28:10.910Z"
   },
   {
    "duration": 30,
    "start_time": "2022-12-15T14:28:10.922Z"
   },
   {
    "duration": 102,
    "start_time": "2022-12-15T14:28:10.954Z"
   },
   {
    "duration": 6,
    "start_time": "2022-12-15T14:28:11.058Z"
   },
   {
    "duration": 43,
    "start_time": "2022-12-15T14:28:11.066Z"
   },
   {
    "duration": 318,
    "start_time": "2022-12-15T14:28:11.111Z"
   },
   {
    "duration": 290,
    "start_time": "2022-12-15T14:28:11.431Z"
   },
   {
    "duration": 204,
    "start_time": "2022-12-15T14:28:11.724Z"
   },
   {
    "duration": 346,
    "start_time": "2022-12-15T14:28:11.929Z"
   },
   {
    "duration": 226,
    "start_time": "2022-12-15T14:28:12.277Z"
   },
   {
    "duration": 334,
    "start_time": "2022-12-15T14:28:12.505Z"
   },
   {
    "duration": 133,
    "start_time": "2022-12-15T14:28:12.841Z"
   },
   {
    "duration": 4,
    "start_time": "2022-12-15T14:28:12.976Z"
   },
   {
    "duration": 164,
    "start_time": "2022-12-15T14:28:12.982Z"
   },
   {
    "duration": 8,
    "start_time": "2022-12-15T14:28:13.148Z"
   },
   {
    "duration": 371,
    "start_time": "2022-12-15T14:28:13.158Z"
   },
   {
    "duration": 10,
    "start_time": "2022-12-15T14:28:13.531Z"
   },
   {
    "duration": 154,
    "start_time": "2022-12-15T14:28:13.555Z"
   },
   {
    "duration": 34,
    "start_time": "2022-12-15T14:28:13.711Z"
   },
   {
    "duration": 22,
    "start_time": "2022-12-15T14:28:13.746Z"
   },
   {
    "duration": 1061,
    "start_time": "2022-12-15T14:33:14.617Z"
   },
   {
    "duration": 772,
    "start_time": "2022-12-15T14:33:38.055Z"
   },
   {
    "duration": 1167,
    "start_time": "2022-12-15T14:33:49.562Z"
   },
   {
    "duration": 35,
    "start_time": "2022-12-15T14:33:50.731Z"
   },
   {
    "duration": 10,
    "start_time": "2022-12-15T14:33:50.768Z"
   },
   {
    "duration": 10,
    "start_time": "2022-12-15T14:33:50.781Z"
   },
   {
    "duration": 99,
    "start_time": "2022-12-15T14:33:50.792Z"
   },
   {
    "duration": 7,
    "start_time": "2022-12-15T14:33:50.892Z"
   },
   {
    "duration": 35,
    "start_time": "2022-12-15T14:33:50.901Z"
   },
   {
    "duration": 310,
    "start_time": "2022-12-15T14:33:50.938Z"
   },
   {
    "duration": 274,
    "start_time": "2022-12-15T14:33:51.255Z"
   },
   {
    "duration": 192,
    "start_time": "2022-12-15T14:33:51.532Z"
   },
   {
    "duration": 331,
    "start_time": "2022-12-15T14:33:51.726Z"
   },
   {
    "duration": 249,
    "start_time": "2022-12-15T14:33:52.059Z"
   },
   {
    "duration": 388,
    "start_time": "2022-12-15T14:33:52.310Z"
   },
   {
    "duration": 147,
    "start_time": "2022-12-15T14:33:52.700Z"
   },
   {
    "duration": 8,
    "start_time": "2022-12-15T14:33:52.849Z"
   },
   {
    "duration": 173,
    "start_time": "2022-12-15T14:33:52.858Z"
   },
   {
    "duration": 5,
    "start_time": "2022-12-15T14:33:53.033Z"
   },
   {
    "duration": 396,
    "start_time": "2022-12-15T14:33:53.040Z"
   },
   {
    "duration": 21,
    "start_time": "2022-12-15T14:33:53.438Z"
   },
   {
    "duration": 148,
    "start_time": "2022-12-15T14:33:53.460Z"
   },
   {
    "duration": 33,
    "start_time": "2022-12-15T14:33:53.610Z"
   },
   {
    "duration": 26,
    "start_time": "2022-12-15T14:33:53.644Z"
   },
   {
    "duration": 68,
    "start_time": "2022-12-15T14:36:42.176Z"
   },
   {
    "duration": 1172,
    "start_time": "2022-12-15T14:37:03.674Z"
   },
   {
    "duration": 33,
    "start_time": "2022-12-15T14:37:04.848Z"
   },
   {
    "duration": 47,
    "start_time": "2022-12-15T14:37:04.882Z"
   },
   {
    "duration": 0,
    "start_time": "2022-12-15T14:37:04.932Z"
   },
   {
    "duration": 0,
    "start_time": "2022-12-15T14:37:04.933Z"
   },
   {
    "duration": 0,
    "start_time": "2022-12-15T14:37:04.934Z"
   },
   {
    "duration": 0,
    "start_time": "2022-12-15T14:37:04.935Z"
   },
   {
    "duration": 0,
    "start_time": "2022-12-15T14:37:04.937Z"
   },
   {
    "duration": 0,
    "start_time": "2022-12-15T14:37:04.938Z"
   },
   {
    "duration": 0,
    "start_time": "2022-12-15T14:37:04.939Z"
   },
   {
    "duration": 0,
    "start_time": "2022-12-15T14:37:04.941Z"
   },
   {
    "duration": 0,
    "start_time": "2022-12-15T14:37:04.942Z"
   },
   {
    "duration": 0,
    "start_time": "2022-12-15T14:37:04.943Z"
   },
   {
    "duration": 0,
    "start_time": "2022-12-15T14:37:04.944Z"
   },
   {
    "duration": 0,
    "start_time": "2022-12-15T14:37:04.945Z"
   },
   {
    "duration": 0,
    "start_time": "2022-12-15T14:37:04.947Z"
   },
   {
    "duration": 0,
    "start_time": "2022-12-15T14:37:04.949Z"
   },
   {
    "duration": 0,
    "start_time": "2022-12-15T14:37:04.952Z"
   },
   {
    "duration": 0,
    "start_time": "2022-12-15T14:37:04.953Z"
   },
   {
    "duration": 0,
    "start_time": "2022-12-15T14:37:04.955Z"
   },
   {
    "duration": 0,
    "start_time": "2022-12-15T14:37:04.956Z"
   },
   {
    "duration": 0,
    "start_time": "2022-12-15T14:37:04.957Z"
   },
   {
    "duration": 51,
    "start_time": "2022-12-15T14:37:50.081Z"
   },
   {
    "duration": 46,
    "start_time": "2022-12-15T14:38:06.847Z"
   },
   {
    "duration": 6,
    "start_time": "2022-12-15T14:38:24.886Z"
   },
   {
    "duration": 102,
    "start_time": "2022-12-15T14:38:33.268Z"
   },
   {
    "duration": 13,
    "start_time": "2022-12-15T14:38:52.675Z"
   },
   {
    "duration": 12,
    "start_time": "2022-12-15T14:40:33.026Z"
   },
   {
    "duration": 9,
    "start_time": "2022-12-15T14:41:01.207Z"
   },
   {
    "duration": 9,
    "start_time": "2022-12-15T14:41:37.966Z"
   },
   {
    "duration": 9,
    "start_time": "2022-12-15T14:42:27.592Z"
   },
   {
    "duration": 72,
    "start_time": "2022-12-15T14:44:14.601Z"
   },
   {
    "duration": 1143,
    "start_time": "2022-12-15T14:45:29.596Z"
   },
   {
    "duration": 47,
    "start_time": "2022-12-15T14:45:30.742Z"
   },
   {
    "duration": 22,
    "start_time": "2022-12-15T14:45:30.791Z"
   },
   {
    "duration": 23,
    "start_time": "2022-12-15T14:45:30.815Z"
   },
   {
    "duration": 107,
    "start_time": "2022-12-15T14:45:30.840Z"
   },
   {
    "duration": 9,
    "start_time": "2022-12-15T14:45:30.948Z"
   },
   {
    "duration": 35,
    "start_time": "2022-12-15T14:45:30.967Z"
   },
   {
    "duration": 308,
    "start_time": "2022-12-15T14:45:31.003Z"
   },
   {
    "duration": 290,
    "start_time": "2022-12-15T14:45:31.313Z"
   },
   {
    "duration": 186,
    "start_time": "2022-12-15T14:45:31.606Z"
   },
   {
    "duration": 288,
    "start_time": "2022-12-15T14:45:31.794Z"
   },
   {
    "duration": 218,
    "start_time": "2022-12-15T14:45:32.084Z"
   },
   {
    "duration": 314,
    "start_time": "2022-12-15T14:45:32.303Z"
   },
   {
    "duration": 142,
    "start_time": "2022-12-15T14:45:32.619Z"
   },
   {
    "duration": 6,
    "start_time": "2022-12-15T14:45:32.762Z"
   },
   {
    "duration": 154,
    "start_time": "2022-12-15T14:45:32.770Z"
   },
   {
    "duration": 4,
    "start_time": "2022-12-15T14:45:32.926Z"
   },
   {
    "duration": 405,
    "start_time": "2022-12-15T14:45:32.932Z"
   },
   {
    "duration": 28,
    "start_time": "2022-12-15T14:45:33.339Z"
   },
   {
    "duration": 139,
    "start_time": "2022-12-15T14:45:33.370Z"
   },
   {
    "duration": 27,
    "start_time": "2022-12-15T14:45:33.511Z"
   },
   {
    "duration": 29,
    "start_time": "2022-12-15T14:45:33.540Z"
   },
   {
    "duration": 967,
    "start_time": "2022-12-15T14:47:35.642Z"
   },
   {
    "duration": 1154,
    "start_time": "2022-12-15T14:47:49.168Z"
   },
   {
    "duration": 37,
    "start_time": "2022-12-15T14:47:50.324Z"
   },
   {
    "duration": 13,
    "start_time": "2022-12-15T14:47:50.362Z"
   },
   {
    "duration": 10,
    "start_time": "2022-12-15T14:47:50.376Z"
   },
   {
    "duration": 79,
    "start_time": "2022-12-15T14:47:50.388Z"
   },
   {
    "duration": 7,
    "start_time": "2022-12-15T14:47:50.469Z"
   },
   {
    "duration": 16,
    "start_time": "2022-12-15T14:47:50.478Z"
   },
   {
    "duration": 296,
    "start_time": "2022-12-15T14:47:50.496Z"
   },
   {
    "duration": 295,
    "start_time": "2022-12-15T14:47:50.794Z"
   },
   {
    "duration": 194,
    "start_time": "2022-12-15T14:47:51.090Z"
   },
   {
    "duration": 295,
    "start_time": "2022-12-15T14:47:51.286Z"
   },
   {
    "duration": 233,
    "start_time": "2022-12-15T14:47:51.583Z"
   },
   {
    "duration": 381,
    "start_time": "2022-12-15T14:47:51.818Z"
   },
   {
    "duration": 145,
    "start_time": "2022-12-15T14:47:52.202Z"
   },
   {
    "duration": 5,
    "start_time": "2022-12-15T14:47:52.354Z"
   },
   {
    "duration": 161,
    "start_time": "2022-12-15T14:47:52.361Z"
   },
   {
    "duration": 5,
    "start_time": "2022-12-15T14:47:52.523Z"
   },
   {
    "duration": 374,
    "start_time": "2022-12-15T14:47:52.529Z"
   },
   {
    "duration": 12,
    "start_time": "2022-12-15T14:47:52.905Z"
   },
   {
    "duration": 163,
    "start_time": "2022-12-15T14:47:52.919Z"
   },
   {
    "duration": 29,
    "start_time": "2022-12-15T14:47:53.084Z"
   },
   {
    "duration": 13,
    "start_time": "2022-12-15T14:47:53.114Z"
   },
   {
    "duration": 4,
    "start_time": "2022-12-15T14:51:32.045Z"
   },
   {
    "duration": 1007,
    "start_time": "2022-12-15T14:52:57.739Z"
   },
   {
    "duration": 4,
    "start_time": "2022-12-15T14:53:09.984Z"
   },
   {
    "duration": 53,
    "start_time": "2022-12-15T14:53:33.875Z"
   },
   {
    "duration": 10,
    "start_time": "2022-12-15T14:53:50.813Z"
   },
   {
    "duration": 50,
    "start_time": "2022-12-15T14:54:20.698Z"
   },
   {
    "duration": 10,
    "start_time": "2022-12-15T14:54:45.783Z"
   },
   {
    "duration": 5,
    "start_time": "2022-12-15T14:57:19.018Z"
   },
   {
    "duration": 1197,
    "start_time": "2022-12-15T15:04:31.542Z"
   },
   {
    "duration": 45,
    "start_time": "2022-12-15T15:04:32.741Z"
   },
   {
    "duration": 10,
    "start_time": "2022-12-15T15:04:32.789Z"
   },
   {
    "duration": 13,
    "start_time": "2022-12-15T15:04:32.801Z"
   },
   {
    "duration": 85,
    "start_time": "2022-12-15T15:04:32.816Z"
   },
   {
    "duration": 6,
    "start_time": "2022-12-15T15:04:32.903Z"
   },
   {
    "duration": 15,
    "start_time": "2022-12-15T15:04:32.910Z"
   },
   {
    "duration": 8,
    "start_time": "2022-12-15T15:04:32.926Z"
   },
   {
    "duration": 6,
    "start_time": "2022-12-15T15:04:32.936Z"
   },
   {
    "duration": 0,
    "start_time": "2022-12-15T15:04:32.944Z"
   },
   {
    "duration": 0,
    "start_time": "2022-12-15T15:04:32.945Z"
   },
   {
    "duration": 0,
    "start_time": "2022-12-15T15:04:32.946Z"
   },
   {
    "duration": 0,
    "start_time": "2022-12-15T15:04:32.947Z"
   },
   {
    "duration": 0,
    "start_time": "2022-12-15T15:04:32.948Z"
   },
   {
    "duration": 1,
    "start_time": "2022-12-15T15:04:32.949Z"
   },
   {
    "duration": 0,
    "start_time": "2022-12-15T15:04:32.950Z"
   },
   {
    "duration": 0,
    "start_time": "2022-12-15T15:04:32.951Z"
   },
   {
    "duration": 0,
    "start_time": "2022-12-15T15:04:32.952Z"
   },
   {
    "duration": 0,
    "start_time": "2022-12-15T15:04:32.957Z"
   },
   {
    "duration": 0,
    "start_time": "2022-12-15T15:04:32.958Z"
   },
   {
    "duration": 0,
    "start_time": "2022-12-15T15:04:32.959Z"
   },
   {
    "duration": 0,
    "start_time": "2022-12-15T15:04:32.965Z"
   },
   {
    "duration": 0,
    "start_time": "2022-12-15T15:04:32.967Z"
   },
   {
    "duration": 0,
    "start_time": "2022-12-15T15:04:32.968Z"
   },
   {
    "duration": 1116,
    "start_time": "2022-12-15T15:05:18.910Z"
   },
   {
    "duration": 43,
    "start_time": "2022-12-15T15:05:20.028Z"
   },
   {
    "duration": 10,
    "start_time": "2022-12-15T15:05:20.073Z"
   },
   {
    "duration": 8,
    "start_time": "2022-12-15T15:05:20.085Z"
   },
   {
    "duration": 82,
    "start_time": "2022-12-15T15:05:20.094Z"
   },
   {
    "duration": 6,
    "start_time": "2022-12-15T15:05:20.177Z"
   },
   {
    "duration": 20,
    "start_time": "2022-12-15T15:05:20.185Z"
   },
   {
    "duration": 17,
    "start_time": "2022-12-15T15:05:20.207Z"
   },
   {
    "duration": 112,
    "start_time": "2022-12-15T15:05:20.226Z"
   },
   {
    "duration": 0,
    "start_time": "2022-12-15T15:05:20.340Z"
   },
   {
    "duration": 0,
    "start_time": "2022-12-15T15:05:20.341Z"
   },
   {
    "duration": 0,
    "start_time": "2022-12-15T15:05:20.342Z"
   },
   {
    "duration": 0,
    "start_time": "2022-12-15T15:05:20.343Z"
   },
   {
    "duration": 0,
    "start_time": "2022-12-15T15:05:20.344Z"
   },
   {
    "duration": 0,
    "start_time": "2022-12-15T15:05:20.345Z"
   },
   {
    "duration": 0,
    "start_time": "2022-12-15T15:05:20.355Z"
   },
   {
    "duration": 0,
    "start_time": "2022-12-15T15:05:20.355Z"
   },
   {
    "duration": 0,
    "start_time": "2022-12-15T15:05:20.356Z"
   },
   {
    "duration": 0,
    "start_time": "2022-12-15T15:05:20.359Z"
   },
   {
    "duration": 0,
    "start_time": "2022-12-15T15:05:20.361Z"
   },
   {
    "duration": 0,
    "start_time": "2022-12-15T15:05:20.362Z"
   },
   {
    "duration": 0,
    "start_time": "2022-12-15T15:05:20.362Z"
   },
   {
    "duration": 0,
    "start_time": "2022-12-15T15:05:20.363Z"
   },
   {
    "duration": 0,
    "start_time": "2022-12-15T15:05:20.364Z"
   },
   {
    "duration": 1136,
    "start_time": "2022-12-15T15:06:36.733Z"
   },
   {
    "duration": 34,
    "start_time": "2022-12-15T15:06:37.871Z"
   },
   {
    "duration": 10,
    "start_time": "2022-12-15T15:06:37.907Z"
   },
   {
    "duration": 9,
    "start_time": "2022-12-15T15:06:37.919Z"
   },
   {
    "duration": 82,
    "start_time": "2022-12-15T15:06:37.930Z"
   },
   {
    "duration": 7,
    "start_time": "2022-12-15T15:06:38.014Z"
   },
   {
    "duration": 17,
    "start_time": "2022-12-15T15:06:38.022Z"
   },
   {
    "duration": 6,
    "start_time": "2022-12-15T15:06:38.041Z"
   },
   {
    "duration": 102,
    "start_time": "2022-12-15T15:06:38.049Z"
   },
   {
    "duration": 0,
    "start_time": "2022-12-15T15:06:38.154Z"
   },
   {
    "duration": 0,
    "start_time": "2022-12-15T15:06:38.156Z"
   },
   {
    "duration": 0,
    "start_time": "2022-12-15T15:06:38.160Z"
   },
   {
    "duration": 0,
    "start_time": "2022-12-15T15:06:38.161Z"
   },
   {
    "duration": 0,
    "start_time": "2022-12-15T15:06:38.163Z"
   },
   {
    "duration": 0,
    "start_time": "2022-12-15T15:06:38.165Z"
   },
   {
    "duration": 0,
    "start_time": "2022-12-15T15:06:38.167Z"
   },
   {
    "duration": 0,
    "start_time": "2022-12-15T15:06:38.168Z"
   },
   {
    "duration": 0,
    "start_time": "2022-12-15T15:06:38.170Z"
   },
   {
    "duration": 0,
    "start_time": "2022-12-15T15:06:38.171Z"
   },
   {
    "duration": 0,
    "start_time": "2022-12-15T15:06:38.172Z"
   },
   {
    "duration": 0,
    "start_time": "2022-12-15T15:06:38.173Z"
   },
   {
    "duration": 0,
    "start_time": "2022-12-15T15:06:38.174Z"
   },
   {
    "duration": 0,
    "start_time": "2022-12-15T15:06:38.175Z"
   },
   {
    "duration": 0,
    "start_time": "2022-12-15T15:06:38.176Z"
   },
   {
    "duration": 9,
    "start_time": "2022-12-15T15:07:57.279Z"
   },
   {
    "duration": 11,
    "start_time": "2022-12-15T15:08:33.524Z"
   },
   {
    "duration": 71,
    "start_time": "2022-12-15T15:21:43.151Z"
   },
   {
    "duration": 50,
    "start_time": "2022-12-15T15:22:11.878Z"
   },
   {
    "duration": 17,
    "start_time": "2022-12-15T15:22:31.334Z"
   },
   {
    "duration": 12,
    "start_time": "2022-12-15T15:22:54.380Z"
   },
   {
    "duration": 59,
    "start_time": "2022-12-15T15:25:42.725Z"
   },
   {
    "duration": 52,
    "start_time": "2022-12-15T15:26:33.288Z"
   },
   {
    "duration": 93,
    "start_time": "2022-12-15T15:26:40.983Z"
   },
   {
    "duration": 65,
    "start_time": "2022-12-15T15:27:02.886Z"
   },
   {
    "duration": 48,
    "start_time": "2022-12-15T15:28:23.911Z"
   },
   {
    "duration": 42,
    "start_time": "2022-12-15T15:35:49.423Z"
   },
   {
    "duration": 58,
    "start_time": "2022-12-15T15:37:08.146Z"
   },
   {
    "duration": 50,
    "start_time": "2022-12-15T15:37:22.673Z"
   },
   {
    "duration": 57,
    "start_time": "2022-12-15T15:38:45.345Z"
   },
   {
    "duration": 95,
    "start_time": "2022-12-15T15:39:52.210Z"
   },
   {
    "duration": 20,
    "start_time": "2022-12-15T15:39:58.715Z"
   },
   {
    "duration": 15,
    "start_time": "2022-12-15T15:40:17.113Z"
   },
   {
    "duration": 9,
    "start_time": "2022-12-15T15:40:29.471Z"
   },
   {
    "duration": 10,
    "start_time": "2022-12-15T15:40:48.942Z"
   },
   {
    "duration": 54,
    "start_time": "2022-12-15T15:47:23.555Z"
   },
   {
    "duration": 60,
    "start_time": "2022-12-15T15:50:10.069Z"
   },
   {
    "duration": 10,
    "start_time": "2022-12-15T15:50:30.884Z"
   },
   {
    "duration": 1192,
    "start_time": "2022-12-15T15:53:18.842Z"
   },
   {
    "duration": 35,
    "start_time": "2022-12-15T15:53:20.036Z"
   },
   {
    "duration": 12,
    "start_time": "2022-12-15T15:53:20.073Z"
   },
   {
    "duration": 19,
    "start_time": "2022-12-15T15:53:20.087Z"
   },
   {
    "duration": 77,
    "start_time": "2022-12-15T15:53:20.108Z"
   },
   {
    "duration": 6,
    "start_time": "2022-12-15T15:53:20.187Z"
   },
   {
    "duration": 27,
    "start_time": "2022-12-15T15:53:20.195Z"
   },
   {
    "duration": 14,
    "start_time": "2022-12-15T15:53:20.224Z"
   },
   {
    "duration": 38,
    "start_time": "2022-12-15T15:53:20.240Z"
   },
   {
    "duration": 37,
    "start_time": "2022-12-15T15:53:20.281Z"
   },
   {
    "duration": 290,
    "start_time": "2022-12-15T15:53:20.320Z"
   },
   {
    "duration": 285,
    "start_time": "2022-12-15T15:53:20.612Z"
   },
   {
    "duration": 196,
    "start_time": "2022-12-15T15:53:20.899Z"
   },
   {
    "duration": 270,
    "start_time": "2022-12-15T15:53:21.097Z"
   },
   {
    "duration": 215,
    "start_time": "2022-12-15T15:53:21.368Z"
   },
   {
    "duration": 307,
    "start_time": "2022-12-15T15:53:21.584Z"
   },
   {
    "duration": 141,
    "start_time": "2022-12-15T15:53:21.893Z"
   },
   {
    "duration": 6,
    "start_time": "2022-12-15T15:53:22.036Z"
   },
   {
    "duration": 166,
    "start_time": "2022-12-15T15:53:22.055Z"
   },
   {
    "duration": 5,
    "start_time": "2022-12-15T15:53:22.222Z"
   },
   {
    "duration": 389,
    "start_time": "2022-12-15T15:53:22.228Z"
   },
   {
    "duration": 11,
    "start_time": "2022-12-15T15:53:22.619Z"
   },
   {
    "duration": 177,
    "start_time": "2022-12-15T15:53:22.631Z"
   },
   {
    "duration": 27,
    "start_time": "2022-12-15T15:53:22.810Z"
   },
   {
    "duration": 26,
    "start_time": "2022-12-15T15:53:22.840Z"
   },
   {
    "duration": 248,
    "start_time": "2022-12-15T15:56:44.413Z"
   },
   {
    "duration": 293,
    "start_time": "2022-12-15T15:57:46.814Z"
   },
   {
    "duration": 216,
    "start_time": "2022-12-15T15:58:00.284Z"
   },
   {
    "duration": 186,
    "start_time": "2022-12-15T15:58:11.987Z"
   },
   {
    "duration": 200,
    "start_time": "2022-12-15T15:58:30.650Z"
   },
   {
    "duration": 210,
    "start_time": "2022-12-15T15:58:40.152Z"
   },
   {
    "duration": 285,
    "start_time": "2022-12-15T15:59:27.462Z"
   },
   {
    "duration": 212,
    "start_time": "2022-12-15T15:59:44.148Z"
   },
   {
    "duration": 209,
    "start_time": "2022-12-15T16:00:03.346Z"
   },
   {
    "duration": 271,
    "start_time": "2022-12-15T16:00:48.981Z"
   },
   {
    "duration": 210,
    "start_time": "2022-12-15T16:02:18.550Z"
   },
   {
    "duration": 213,
    "start_time": "2022-12-15T16:11:26.574Z"
   },
   {
    "duration": 313,
    "start_time": "2022-12-15T16:11:50.403Z"
   },
   {
    "duration": 218,
    "start_time": "2022-12-15T16:12:36.000Z"
   },
   {
    "duration": 200,
    "start_time": "2022-12-15T16:12:54.270Z"
   },
   {
    "duration": 201,
    "start_time": "2022-12-15T16:13:13.189Z"
   },
   {
    "duration": 307,
    "start_time": "2022-12-15T16:14:46.701Z"
   },
   {
    "duration": 211,
    "start_time": "2022-12-15T16:15:26.329Z"
   },
   {
    "duration": 199,
    "start_time": "2022-12-15T16:16:57.081Z"
   },
   {
    "duration": 232,
    "start_time": "2022-12-15T16:17:29.094Z"
   },
   {
    "duration": 246,
    "start_time": "2022-12-15T16:17:54.486Z"
   },
   {
    "duration": 214,
    "start_time": "2022-12-15T16:18:36.130Z"
   },
   {
    "duration": 197,
    "start_time": "2022-12-15T16:19:20.389Z"
   },
   {
    "duration": 188,
    "start_time": "2022-12-15T16:19:59.937Z"
   },
   {
    "duration": 199,
    "start_time": "2022-12-15T16:21:22.290Z"
   },
   {
    "duration": 201,
    "start_time": "2022-12-15T16:21:38.208Z"
   },
   {
    "duration": 329,
    "start_time": "2022-12-15T16:23:54.028Z"
   },
   {
    "duration": 458,
    "start_time": "2022-12-15T16:24:08.115Z"
   },
   {
    "duration": 337,
    "start_time": "2022-12-15T16:24:22.353Z"
   },
   {
    "duration": 296,
    "start_time": "2022-12-15T16:24:55.703Z"
   },
   {
    "duration": 307,
    "start_time": "2022-12-15T16:25:20.960Z"
   },
   {
    "duration": 303,
    "start_time": "2022-12-15T16:25:35.155Z"
   },
   {
    "duration": 232,
    "start_time": "2022-12-15T16:26:51.052Z"
   },
   {
    "duration": 225,
    "start_time": "2022-12-15T16:27:00.283Z"
   },
   {
    "duration": 206,
    "start_time": "2022-12-15T16:27:57.791Z"
   },
   {
    "duration": 3,
    "start_time": "2022-12-15T16:33:02.398Z"
   },
   {
    "duration": 344,
    "start_time": "2022-12-15T16:39:22.362Z"
   },
   {
    "duration": 375,
    "start_time": "2022-12-15T16:40:16.054Z"
   },
   {
    "duration": 356,
    "start_time": "2022-12-15T16:40:51.348Z"
   },
   {
    "duration": 367,
    "start_time": "2022-12-15T16:41:04.834Z"
   },
   {
    "duration": 366,
    "start_time": "2022-12-15T16:41:35.921Z"
   },
   {
    "duration": 359,
    "start_time": "2022-12-15T16:42:00.719Z"
   },
   {
    "duration": 354,
    "start_time": "2022-12-15T16:42:51.225Z"
   },
   {
    "duration": 413,
    "start_time": "2022-12-15T16:43:04.335Z"
   },
   {
    "duration": 365,
    "start_time": "2022-12-15T16:43:36.451Z"
   },
   {
    "duration": 491,
    "start_time": "2022-12-15T16:43:48.747Z"
   },
   {
    "duration": 385,
    "start_time": "2022-12-15T16:44:03.160Z"
   },
   {
    "duration": 353,
    "start_time": "2022-12-15T16:44:20.585Z"
   },
   {
    "duration": 428,
    "start_time": "2022-12-15T16:44:34.535Z"
   },
   {
    "duration": 349,
    "start_time": "2022-12-15T16:44:46.823Z"
   },
   {
    "duration": 341,
    "start_time": "2022-12-15T16:44:58.717Z"
   },
   {
    "duration": 372,
    "start_time": "2022-12-15T16:46:08.931Z"
   },
   {
    "duration": 159,
    "start_time": "2022-12-15T17:03:09.728Z"
   },
   {
    "duration": 138,
    "start_time": "2022-12-15T17:04:45.206Z"
   },
   {
    "duration": 1106,
    "start_time": "2022-12-15T17:05:27.411Z"
   },
   {
    "duration": 33,
    "start_time": "2022-12-15T17:05:28.519Z"
   },
   {
    "duration": 10,
    "start_time": "2022-12-15T17:05:28.554Z"
   },
   {
    "duration": 8,
    "start_time": "2022-12-15T17:05:28.566Z"
   },
   {
    "duration": 79,
    "start_time": "2022-12-15T17:05:28.575Z"
   },
   {
    "duration": 6,
    "start_time": "2022-12-15T17:05:28.656Z"
   },
   {
    "duration": 14,
    "start_time": "2022-12-15T17:05:28.664Z"
   },
   {
    "duration": 11,
    "start_time": "2022-12-15T17:05:28.679Z"
   },
   {
    "duration": 22,
    "start_time": "2022-12-15T17:05:28.691Z"
   },
   {
    "duration": 15,
    "start_time": "2022-12-15T17:05:28.715Z"
   },
   {
    "duration": 333,
    "start_time": "2022-12-15T17:05:28.732Z"
   },
   {
    "duration": 309,
    "start_time": "2022-12-15T17:05:29.067Z"
   },
   {
    "duration": 204,
    "start_time": "2022-12-15T17:05:29.378Z"
   },
   {
    "duration": 293,
    "start_time": "2022-12-15T17:05:29.585Z"
   },
   {
    "duration": 225,
    "start_time": "2022-12-15T17:05:29.880Z"
   },
   {
    "duration": 349,
    "start_time": "2022-12-15T17:05:30.108Z"
   },
   {
    "duration": 151,
    "start_time": "2022-12-15T17:05:30.459Z"
   },
   {
    "duration": 6,
    "start_time": "2022-12-15T17:05:30.612Z"
   },
   {
    "duration": 168,
    "start_time": "2022-12-15T17:05:30.620Z"
   },
   {
    "duration": 5,
    "start_time": "2022-12-15T17:05:30.790Z"
   },
   {
    "duration": 427,
    "start_time": "2022-12-15T17:05:30.797Z"
   },
   {
    "duration": 14,
    "start_time": "2022-12-15T17:05:31.227Z"
   },
   {
    "duration": 198,
    "start_time": "2022-12-15T17:05:31.243Z"
   },
   {
    "duration": 36,
    "start_time": "2022-12-15T17:05:31.443Z"
   },
   {
    "duration": 15,
    "start_time": "2022-12-15T17:05:31.481Z"
   },
   {
    "duration": 149,
    "start_time": "2022-12-15T17:46:37.314Z"
   },
   {
    "duration": 259,
    "start_time": "2022-12-15T17:48:08.363Z"
   },
   {
    "duration": 161,
    "start_time": "2022-12-15T17:49:01.069Z"
   },
   {
    "duration": 145,
    "start_time": "2022-12-15T17:52:49.947Z"
   },
   {
    "duration": 162,
    "start_time": "2022-12-15T17:53:30.300Z"
   },
   {
    "duration": 46,
    "start_time": "2022-12-15T17:56:42.989Z"
   },
   {
    "duration": 1194,
    "start_time": "2022-12-15T18:11:13.458Z"
   },
   {
    "duration": 36,
    "start_time": "2022-12-15T18:11:14.654Z"
   },
   {
    "duration": 11,
    "start_time": "2022-12-15T18:11:14.695Z"
   },
   {
    "duration": 12,
    "start_time": "2022-12-15T18:11:14.708Z"
   },
   {
    "duration": 73,
    "start_time": "2022-12-15T18:11:14.722Z"
   },
   {
    "duration": 7,
    "start_time": "2022-12-15T18:11:14.796Z"
   },
   {
    "duration": 15,
    "start_time": "2022-12-15T18:11:14.805Z"
   },
   {
    "duration": 9,
    "start_time": "2022-12-15T18:11:14.822Z"
   },
   {
    "duration": 11,
    "start_time": "2022-12-15T18:11:14.834Z"
   },
   {
    "duration": 14,
    "start_time": "2022-12-15T18:11:14.847Z"
   },
   {
    "duration": 288,
    "start_time": "2022-12-15T18:11:14.863Z"
   },
   {
    "duration": 306,
    "start_time": "2022-12-15T18:11:15.152Z"
   },
   {
    "duration": 207,
    "start_time": "2022-12-15T18:11:15.460Z"
   },
   {
    "duration": 296,
    "start_time": "2022-12-15T18:11:15.669Z"
   },
   {
    "duration": 221,
    "start_time": "2022-12-15T18:11:15.966Z"
   },
   {
    "duration": 344,
    "start_time": "2022-12-15T18:11:16.188Z"
   },
   {
    "duration": 145,
    "start_time": "2022-12-15T18:11:16.534Z"
   },
   {
    "duration": 4,
    "start_time": "2022-12-15T18:11:16.681Z"
   },
   {
    "duration": 161,
    "start_time": "2022-12-15T18:11:16.687Z"
   },
   {
    "duration": 171,
    "start_time": "2022-12-15T18:11:16.850Z"
   },
   {
    "duration": 4,
    "start_time": "2022-12-15T18:11:17.023Z"
   },
   {
    "duration": 449,
    "start_time": "2022-12-15T18:11:17.029Z"
   },
   {
    "duration": 11,
    "start_time": "2022-12-15T18:11:17.480Z"
   },
   {
    "duration": 143,
    "start_time": "2022-12-15T18:11:17.492Z"
   },
   {
    "duration": 32,
    "start_time": "2022-12-15T18:11:17.637Z"
   },
   {
    "duration": 14,
    "start_time": "2022-12-15T18:11:17.670Z"
   },
   {
    "duration": 201,
    "start_time": "2022-12-15T18:12:34.577Z"
   },
   {
    "duration": 206,
    "start_time": "2022-12-15T18:28:06.655Z"
   },
   {
    "duration": 1203,
    "start_time": "2022-12-15T18:39:22.231Z"
   },
   {
    "duration": 34,
    "start_time": "2022-12-15T18:39:23.436Z"
   },
   {
    "duration": 9,
    "start_time": "2022-12-15T18:39:23.471Z"
   },
   {
    "duration": 13,
    "start_time": "2022-12-15T18:39:23.482Z"
   },
   {
    "duration": 90,
    "start_time": "2022-12-15T18:39:23.497Z"
   },
   {
    "duration": 7,
    "start_time": "2022-12-15T18:39:23.589Z"
   },
   {
    "duration": 30,
    "start_time": "2022-12-15T18:39:23.598Z"
   },
   {
    "duration": 36,
    "start_time": "2022-12-15T18:39:23.630Z"
   },
   {
    "duration": 33,
    "start_time": "2022-12-15T18:39:23.668Z"
   },
   {
    "duration": 31,
    "start_time": "2022-12-15T18:39:23.703Z"
   },
   {
    "duration": 272,
    "start_time": "2022-12-15T18:39:23.736Z"
   },
   {
    "duration": 292,
    "start_time": "2022-12-15T18:39:24.010Z"
   },
   {
    "duration": 216,
    "start_time": "2022-12-15T18:39:24.304Z"
   },
   {
    "duration": 342,
    "start_time": "2022-12-15T18:39:24.523Z"
   },
   {
    "duration": 227,
    "start_time": "2022-12-15T18:39:24.867Z"
   },
   {
    "duration": 350,
    "start_time": "2022-12-15T18:39:25.096Z"
   },
   {
    "duration": 151,
    "start_time": "2022-12-15T18:39:25.448Z"
   },
   {
    "duration": 5,
    "start_time": "2022-12-15T18:39:25.601Z"
   },
   {
    "duration": 174,
    "start_time": "2022-12-15T18:39:25.607Z"
   },
   {
    "duration": 175,
    "start_time": "2022-12-15T18:39:25.783Z"
   },
   {
    "duration": 4,
    "start_time": "2022-12-15T18:39:25.959Z"
   },
   {
    "duration": 1007,
    "start_time": "2022-12-15T18:39:25.965Z"
   },
   {
    "duration": 0,
    "start_time": "2022-12-15T18:39:26.974Z"
   },
   {
    "duration": 0,
    "start_time": "2022-12-15T18:39:26.975Z"
   },
   {
    "duration": 0,
    "start_time": "2022-12-15T18:39:26.976Z"
   },
   {
    "duration": 0,
    "start_time": "2022-12-15T18:39:26.977Z"
   },
   {
    "duration": 840,
    "start_time": "2022-12-15T18:50:26.283Z"
   },
   {
    "duration": 204,
    "start_time": "2022-12-15T18:55:29.104Z"
   },
   {
    "duration": 185,
    "start_time": "2022-12-15T18:57:29.254Z"
   },
   {
    "duration": 1120,
    "start_time": "2022-12-15T18:57:48.699Z"
   },
   {
    "duration": 34,
    "start_time": "2022-12-15T18:57:49.822Z"
   },
   {
    "duration": 10,
    "start_time": "2022-12-15T18:57:49.858Z"
   },
   {
    "duration": 9,
    "start_time": "2022-12-15T18:57:49.869Z"
   },
   {
    "duration": 74,
    "start_time": "2022-12-15T18:57:49.880Z"
   },
   {
    "duration": 8,
    "start_time": "2022-12-15T18:57:49.956Z"
   },
   {
    "duration": 16,
    "start_time": "2022-12-15T18:57:49.966Z"
   },
   {
    "duration": 19,
    "start_time": "2022-12-15T18:57:49.984Z"
   },
   {
    "duration": 23,
    "start_time": "2022-12-15T18:57:50.004Z"
   },
   {
    "duration": 27,
    "start_time": "2022-12-15T18:57:50.030Z"
   },
   {
    "duration": 421,
    "start_time": "2022-12-15T18:57:50.059Z"
   },
   {
    "duration": 292,
    "start_time": "2022-12-15T18:57:50.482Z"
   },
   {
    "duration": 221,
    "start_time": "2022-12-15T18:57:50.776Z"
   },
   {
    "duration": 288,
    "start_time": "2022-12-15T18:57:51.000Z"
   },
   {
    "duration": 235,
    "start_time": "2022-12-15T18:57:51.290Z"
   },
   {
    "duration": 396,
    "start_time": "2022-12-15T18:57:51.527Z"
   },
   {
    "duration": 146,
    "start_time": "2022-12-15T18:57:51.925Z"
   },
   {
    "duration": 5,
    "start_time": "2022-12-15T18:57:52.072Z"
   },
   {
    "duration": 172,
    "start_time": "2022-12-15T18:57:52.078Z"
   },
   {
    "duration": 222,
    "start_time": "2022-12-15T18:57:52.255Z"
   },
   {
    "duration": 5,
    "start_time": "2022-12-15T18:57:52.479Z"
   },
   {
    "duration": 277,
    "start_time": "2022-12-15T18:57:52.485Z"
   },
   {
    "duration": 12,
    "start_time": "2022-12-15T18:57:52.764Z"
   },
   {
    "duration": 163,
    "start_time": "2022-12-15T18:57:52.777Z"
   },
   {
    "duration": 791,
    "start_time": "2022-12-15T18:57:52.942Z"
   },
   {
    "duration": 0,
    "start_time": "2022-12-15T18:57:53.735Z"
   },
   {
    "duration": 10,
    "start_time": "2022-12-15T18:58:52.085Z"
   },
   {
    "duration": 886,
    "start_time": "2022-12-15T19:00:30.193Z"
   },
   {
    "duration": 43,
    "start_time": "2022-12-15T19:00:42.998Z"
   },
   {
    "duration": 17,
    "start_time": "2022-12-15T19:21:21.539Z"
   },
   {
    "duration": 1109,
    "start_time": "2022-12-15T19:27:45.122Z"
   },
   {
    "duration": 38,
    "start_time": "2022-12-15T19:27:46.232Z"
   },
   {
    "duration": 10,
    "start_time": "2022-12-15T19:27:46.271Z"
   },
   {
    "duration": 8,
    "start_time": "2022-12-15T19:27:46.282Z"
   },
   {
    "duration": 181,
    "start_time": "2022-12-15T19:27:46.292Z"
   },
   {
    "duration": 6,
    "start_time": "2022-12-15T19:27:46.474Z"
   },
   {
    "duration": 17,
    "start_time": "2022-12-15T19:27:46.482Z"
   },
   {
    "duration": 8,
    "start_time": "2022-12-15T19:27:46.501Z"
   },
   {
    "duration": 10,
    "start_time": "2022-12-15T19:27:46.511Z"
   },
   {
    "duration": 39,
    "start_time": "2022-12-15T19:27:46.523Z"
   },
   {
    "duration": 284,
    "start_time": "2022-12-15T19:27:46.564Z"
   },
   {
    "duration": 287,
    "start_time": "2022-12-15T19:27:46.850Z"
   },
   {
    "duration": 215,
    "start_time": "2022-12-15T19:27:47.139Z"
   },
   {
    "duration": 318,
    "start_time": "2022-12-15T19:27:47.356Z"
   },
   {
    "duration": 214,
    "start_time": "2022-12-15T19:27:47.676Z"
   },
   {
    "duration": 346,
    "start_time": "2022-12-15T19:27:47.892Z"
   },
   {
    "duration": 136,
    "start_time": "2022-12-15T19:27:48.240Z"
   },
   {
    "duration": 4,
    "start_time": "2022-12-15T19:27:48.378Z"
   },
   {
    "duration": 155,
    "start_time": "2022-12-15T19:27:48.384Z"
   },
   {
    "duration": 165,
    "start_time": "2022-12-15T19:27:48.541Z"
   },
   {
    "duration": 4,
    "start_time": "2022-12-15T19:27:48.708Z"
   },
   {
    "duration": 281,
    "start_time": "2022-12-15T19:27:48.714Z"
   },
   {
    "duration": 13,
    "start_time": "2022-12-15T19:27:48.997Z"
   },
   {
    "duration": 10,
    "start_time": "2022-12-15T19:27:49.012Z"
   },
   {
    "duration": 57,
    "start_time": "2022-12-15T19:27:49.024Z"
   },
   {
    "duration": 20,
    "start_time": "2022-12-15T19:27:49.084Z"
   },
   {
    "duration": 162,
    "start_time": "2022-12-15T19:43:21.886Z"
   },
   {
    "duration": 1163,
    "start_time": "2022-12-15T19:43:48.765Z"
   },
   {
    "duration": 38,
    "start_time": "2022-12-15T19:43:49.931Z"
   },
   {
    "duration": 11,
    "start_time": "2022-12-15T19:43:49.971Z"
   },
   {
    "duration": 9,
    "start_time": "2022-12-15T19:43:49.984Z"
   },
   {
    "duration": 80,
    "start_time": "2022-12-15T19:43:49.995Z"
   },
   {
    "duration": 6,
    "start_time": "2022-12-15T19:43:50.076Z"
   },
   {
    "duration": 14,
    "start_time": "2022-12-15T19:43:50.084Z"
   },
   {
    "duration": 9,
    "start_time": "2022-12-15T19:43:50.099Z"
   },
   {
    "duration": 16,
    "start_time": "2022-12-15T19:43:50.109Z"
   },
   {
    "duration": 12,
    "start_time": "2022-12-15T19:43:50.127Z"
   },
   {
    "duration": 330,
    "start_time": "2022-12-15T19:43:50.155Z"
   },
   {
    "duration": 291,
    "start_time": "2022-12-15T19:43:50.488Z"
   },
   {
    "duration": 201,
    "start_time": "2022-12-15T19:43:50.781Z"
   },
   {
    "duration": 304,
    "start_time": "2022-12-15T19:43:50.985Z"
   },
   {
    "duration": 246,
    "start_time": "2022-12-15T19:43:51.291Z"
   },
   {
    "duration": 374,
    "start_time": "2022-12-15T19:43:51.538Z"
   },
   {
    "duration": 153,
    "start_time": "2022-12-15T19:43:51.914Z"
   },
   {
    "duration": 4,
    "start_time": "2022-12-15T19:43:52.069Z"
   },
   {
    "duration": 165,
    "start_time": "2022-12-15T19:43:52.075Z"
   },
   {
    "duration": 180,
    "start_time": "2022-12-15T19:43:52.242Z"
   },
   {
    "duration": 4,
    "start_time": "2022-12-15T19:43:52.423Z"
   },
   {
    "duration": 274,
    "start_time": "2022-12-15T19:43:52.429Z"
   },
   {
    "duration": 10,
    "start_time": "2022-12-15T19:43:52.705Z"
   },
   {
    "duration": 11,
    "start_time": "2022-12-15T19:43:52.717Z"
   },
   {
    "duration": 53,
    "start_time": "2022-12-15T19:43:52.729Z"
   },
   {
    "duration": 17,
    "start_time": "2022-12-15T19:43:52.784Z"
   },
   {
    "duration": 1146,
    "start_time": "2022-12-15T19:47:00.002Z"
   },
   {
    "duration": 35,
    "start_time": "2022-12-15T19:47:01.150Z"
   },
   {
    "duration": 10,
    "start_time": "2022-12-15T19:47:01.187Z"
   },
   {
    "duration": 9,
    "start_time": "2022-12-15T19:47:01.199Z"
   },
   {
    "duration": 101,
    "start_time": "2022-12-15T19:47:01.210Z"
   },
   {
    "duration": 6,
    "start_time": "2022-12-15T19:47:01.313Z"
   },
   {
    "duration": 32,
    "start_time": "2022-12-15T19:47:01.321Z"
   },
   {
    "duration": 29,
    "start_time": "2022-12-15T19:47:01.356Z"
   },
   {
    "duration": 20,
    "start_time": "2022-12-15T19:47:01.387Z"
   },
   {
    "duration": 18,
    "start_time": "2022-12-15T19:47:01.409Z"
   },
   {
    "duration": 306,
    "start_time": "2022-12-15T19:47:01.429Z"
   },
   {
    "duration": 314,
    "start_time": "2022-12-15T19:47:01.737Z"
   },
   {
    "duration": 229,
    "start_time": "2022-12-15T19:47:02.054Z"
   },
   {
    "duration": 317,
    "start_time": "2022-12-15T19:47:02.285Z"
   },
   {
    "duration": 238,
    "start_time": "2022-12-15T19:47:02.604Z"
   },
   {
    "duration": 376,
    "start_time": "2022-12-15T19:47:02.843Z"
   },
   {
    "duration": 156,
    "start_time": "2022-12-15T19:47:03.221Z"
   },
   {
    "duration": 6,
    "start_time": "2022-12-15T19:47:03.378Z"
   },
   {
    "duration": 186,
    "start_time": "2022-12-15T19:47:03.386Z"
   },
   {
    "duration": 212,
    "start_time": "2022-12-15T19:47:03.574Z"
   },
   {
    "duration": 5,
    "start_time": "2022-12-15T19:47:03.788Z"
   },
   {
    "duration": 277,
    "start_time": "2022-12-15T19:47:03.795Z"
   },
   {
    "duration": 11,
    "start_time": "2022-12-15T19:47:04.073Z"
   },
   {
    "duration": 8,
    "start_time": "2022-12-15T19:47:04.086Z"
   },
   {
    "duration": 28,
    "start_time": "2022-12-15T19:47:04.096Z"
   },
   {
    "duration": 47,
    "start_time": "2022-12-15T19:47:04.126Z"
   },
   {
    "duration": 1282,
    "start_time": "2022-12-15T19:48:34.542Z"
   },
   {
    "duration": 36,
    "start_time": "2022-12-15T19:48:35.826Z"
   },
   {
    "duration": 13,
    "start_time": "2022-12-15T19:48:35.864Z"
   },
   {
    "duration": 9,
    "start_time": "2022-12-15T19:48:35.880Z"
   },
   {
    "duration": 78,
    "start_time": "2022-12-15T19:48:35.891Z"
   },
   {
    "duration": 7,
    "start_time": "2022-12-15T19:48:35.972Z"
   },
   {
    "duration": 15,
    "start_time": "2022-12-15T19:48:35.980Z"
   },
   {
    "duration": 7,
    "start_time": "2022-12-15T19:48:35.996Z"
   },
   {
    "duration": 14,
    "start_time": "2022-12-15T19:48:36.005Z"
   },
   {
    "duration": 10,
    "start_time": "2022-12-15T19:48:36.022Z"
   },
   {
    "duration": 336,
    "start_time": "2022-12-15T19:48:36.056Z"
   },
   {
    "duration": 317,
    "start_time": "2022-12-15T19:48:36.394Z"
   },
   {
    "duration": 228,
    "start_time": "2022-12-15T19:48:36.713Z"
   },
   {
    "duration": 343,
    "start_time": "2022-12-15T19:48:36.944Z"
   },
   {
    "duration": 243,
    "start_time": "2022-12-15T19:48:37.288Z"
   },
   {
    "duration": 387,
    "start_time": "2022-12-15T19:48:37.533Z"
   },
   {
    "duration": 155,
    "start_time": "2022-12-15T19:48:37.922Z"
   },
   {
    "duration": 5,
    "start_time": "2022-12-15T19:48:38.078Z"
   },
   {
    "duration": 168,
    "start_time": "2022-12-15T19:48:38.084Z"
   },
   {
    "duration": 174,
    "start_time": "2022-12-15T19:48:38.254Z"
   },
   {
    "duration": 4,
    "start_time": "2022-12-15T19:48:38.429Z"
   },
   {
    "duration": 268,
    "start_time": "2022-12-15T19:48:38.435Z"
   },
   {
    "duration": 9,
    "start_time": "2022-12-15T19:48:38.705Z"
   },
   {
    "duration": 10,
    "start_time": "2022-12-15T19:48:38.715Z"
   },
   {
    "duration": 60,
    "start_time": "2022-12-15T19:48:38.726Z"
   },
   {
    "duration": 14,
    "start_time": "2022-12-15T19:48:38.787Z"
   },
   {
    "duration": 45,
    "start_time": "2022-12-15T21:52:03.991Z"
   },
   {
    "duration": 1024,
    "start_time": "2022-12-15T21:52:08.311Z"
   },
   {
    "duration": 32,
    "start_time": "2022-12-15T21:52:09.337Z"
   },
   {
    "duration": 9,
    "start_time": "2022-12-15T21:52:09.370Z"
   },
   {
    "duration": 7,
    "start_time": "2022-12-15T21:52:09.380Z"
   },
   {
    "duration": 65,
    "start_time": "2022-12-15T21:52:09.389Z"
   },
   {
    "duration": 6,
    "start_time": "2022-12-15T21:52:09.455Z"
   },
   {
    "duration": 12,
    "start_time": "2022-12-15T21:52:09.462Z"
   },
   {
    "duration": 7,
    "start_time": "2022-12-15T21:52:09.475Z"
   },
   {
    "duration": 20,
    "start_time": "2022-12-15T21:52:09.483Z"
   },
   {
    "duration": 10,
    "start_time": "2022-12-15T21:52:11.511Z"
   },
   {
    "duration": 14,
    "start_time": "2022-12-15T21:52:18.721Z"
   },
   {
    "duration": 47,
    "start_time": "2022-12-15T21:52:48.956Z"
   },
   {
    "duration": 50,
    "start_time": "2022-12-15T21:53:08.171Z"
   },
   {
    "duration": 6,
    "start_time": "2022-12-15T21:53:11.741Z"
   },
   {
    "duration": 16,
    "start_time": "2022-12-15T21:53:15.670Z"
   },
   {
    "duration": 5,
    "start_time": "2022-12-15T21:53:31.471Z"
   },
   {
    "duration": 4,
    "start_time": "2022-12-15T21:53:56.401Z"
   },
   {
    "duration": 4,
    "start_time": "2022-12-15T21:54:01.280Z"
   },
   {
    "duration": 53,
    "start_time": "2022-12-21T08:28:03.147Z"
   },
   {
    "duration": 1267,
    "start_time": "2022-12-21T08:28:20.811Z"
   },
   {
    "duration": 77,
    "start_time": "2022-12-21T08:28:22.080Z"
   },
   {
    "duration": 11,
    "start_time": "2022-12-21T08:28:22.159Z"
   },
   {
    "duration": 16,
    "start_time": "2022-12-21T08:28:22.172Z"
   },
   {
    "duration": 162,
    "start_time": "2022-12-21T08:28:22.190Z"
   },
   {
    "duration": 8,
    "start_time": "2022-12-21T08:28:22.353Z"
   },
   {
    "duration": 14,
    "start_time": "2022-12-21T08:28:22.362Z"
   },
   {
    "duration": 10,
    "start_time": "2022-12-21T08:28:22.377Z"
   },
   {
    "duration": 13,
    "start_time": "2022-12-21T08:28:22.388Z"
   },
   {
    "duration": 20,
    "start_time": "2022-12-21T08:28:22.404Z"
   },
   {
    "duration": 153,
    "start_time": "2022-12-21T08:28:22.426Z"
   },
   {
    "duration": 0,
    "start_time": "2022-12-21T08:28:22.581Z"
   },
   {
    "duration": 0,
    "start_time": "2022-12-21T08:28:22.582Z"
   },
   {
    "duration": 0,
    "start_time": "2022-12-21T08:28:22.584Z"
   },
   {
    "duration": 0,
    "start_time": "2022-12-21T08:28:22.585Z"
   },
   {
    "duration": 0,
    "start_time": "2022-12-21T08:28:22.586Z"
   },
   {
    "duration": 0,
    "start_time": "2022-12-21T08:28:22.587Z"
   },
   {
    "duration": 0,
    "start_time": "2022-12-21T08:28:22.589Z"
   },
   {
    "duration": 0,
    "start_time": "2022-12-21T08:28:22.590Z"
   },
   {
    "duration": 0,
    "start_time": "2022-12-21T08:28:22.591Z"
   },
   {
    "duration": 0,
    "start_time": "2022-12-21T08:28:22.592Z"
   },
   {
    "duration": 0,
    "start_time": "2022-12-21T08:28:22.594Z"
   },
   {
    "duration": 0,
    "start_time": "2022-12-21T08:28:22.616Z"
   },
   {
    "duration": 0,
    "start_time": "2022-12-21T08:28:22.617Z"
   },
   {
    "duration": 0,
    "start_time": "2022-12-21T08:28:22.618Z"
   },
   {
    "duration": 0,
    "start_time": "2022-12-21T08:28:22.619Z"
   },
   {
    "duration": 0,
    "start_time": "2022-12-21T08:28:22.620Z"
   },
   {
    "duration": 9,
    "start_time": "2022-12-21T08:28:53.742Z"
   },
   {
    "duration": 63,
    "start_time": "2022-12-21T08:29:19.742Z"
   },
   {
    "duration": 10,
    "start_time": "2022-12-21T08:29:28.357Z"
   },
   {
    "duration": 1096,
    "start_time": "2022-12-21T08:30:12.520Z"
   },
   {
    "duration": 35,
    "start_time": "2022-12-21T08:30:13.618Z"
   },
   {
    "duration": 12,
    "start_time": "2022-12-21T08:30:13.655Z"
   },
   {
    "duration": 8,
    "start_time": "2022-12-21T08:30:13.669Z"
   },
   {
    "duration": 71,
    "start_time": "2022-12-21T08:30:13.679Z"
   },
   {
    "duration": 6,
    "start_time": "2022-12-21T08:30:13.752Z"
   },
   {
    "duration": 19,
    "start_time": "2022-12-21T08:30:13.759Z"
   },
   {
    "duration": 12,
    "start_time": "2022-12-21T08:30:13.779Z"
   },
   {
    "duration": 13,
    "start_time": "2022-12-21T08:30:13.793Z"
   },
   {
    "duration": 7,
    "start_time": "2022-12-21T08:30:13.809Z"
   },
   {
    "duration": 18,
    "start_time": "2022-12-21T08:30:13.817Z"
   },
   {
    "duration": 291,
    "start_time": "2022-12-21T08:30:13.836Z"
   },
   {
    "duration": 310,
    "start_time": "2022-12-21T08:30:14.129Z"
   },
   {
    "duration": 211,
    "start_time": "2022-12-21T08:30:14.441Z"
   },
   {
    "duration": 303,
    "start_time": "2022-12-21T08:30:14.654Z"
   },
   {
    "duration": 225,
    "start_time": "2022-12-21T08:30:14.959Z"
   },
   {
    "duration": 368,
    "start_time": "2022-12-21T08:30:15.186Z"
   },
   {
    "duration": 138,
    "start_time": "2022-12-21T08:30:15.556Z"
   },
   {
    "duration": 5,
    "start_time": "2022-12-21T08:30:15.697Z"
   },
   {
    "duration": 152,
    "start_time": "2022-12-21T08:30:15.716Z"
   },
   {
    "duration": 166,
    "start_time": "2022-12-21T08:30:15.870Z"
   },
   {
    "duration": 4,
    "start_time": "2022-12-21T08:30:16.038Z"
   },
   {
    "duration": 275,
    "start_time": "2022-12-21T08:30:16.044Z"
   },
   {
    "duration": 10,
    "start_time": "2022-12-21T08:30:16.321Z"
   },
   {
    "duration": 14,
    "start_time": "2022-12-21T08:30:16.332Z"
   },
   {
    "duration": 29,
    "start_time": "2022-12-21T08:30:16.347Z"
   },
   {
    "duration": 41,
    "start_time": "2022-12-21T08:30:16.378Z"
   }
  ],
  "kernelspec": {
   "display_name": "Python 3 (ipykernel)",
   "language": "python",
   "name": "python3"
  },
  "language_info": {
   "codemirror_mode": {
    "name": "ipython",
    "version": 3
   },
   "file_extension": ".py",
   "mimetype": "text/x-python",
   "name": "python",
   "nbconvert_exporter": "python",
   "pygments_lexer": "ipython3",
   "version": "3.9.5"
  },
  "toc": {
   "base_numbering": 1,
   "nav_menu": {},
   "number_sections": true,
   "sideBar": true,
   "skip_h1_title": true,
   "title_cell": "Table of Contents",
   "title_sidebar": "Contents",
   "toc_cell": false,
   "toc_position": {
    "height": "calc(100% - 180px)",
    "left": "10px",
    "top": "150px",
    "width": "263.097px"
   },
   "toc_section_display": true,
   "toc_window_display": false
  }
 },
 "nbformat": 4,
 "nbformat_minor": 2
}
